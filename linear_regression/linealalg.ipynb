{
 "cells": [
  {
   "cell_type": "code",
   "execution_count": 2,
   "metadata": {
    "collapsed": true,
    "ExecuteTime": {
     "end_time": "2024-03-05T20:10:57.353939Z",
     "start_time": "2024-03-05T20:10:57.143874Z"
    }
   },
   "outputs": [],
   "source": [
    "import numpy as np"
   ]
  },
  {
   "cell_type": "markdown",
   "source": [
    "Creating a list"
   ],
   "metadata": {
    "collapsed": false
   }
  },
  {
   "cell_type": "code",
   "execution_count": 3,
   "outputs": [
    {
     "name": "stdout",
     "output_type": "stream",
     "text": [
      "[1 2 3 4]\n",
      "<class 'numpy.ndarray'>\n"
     ]
    }
   ],
   "source": [
    "L = np.array([1, 2, 3, 4])\n",
    "print(L)\n",
    "print(type(L))"
   ],
   "metadata": {
    "collapsed": false,
    "ExecuteTime": {
     "end_time": "2024-03-05T20:10:57.355124Z",
     "start_time": "2024-03-05T20:10:57.318989Z"
    }
   }
  },
  {
   "cell_type": "code",
   "execution_count": 4,
   "outputs": [
    {
     "name": "stdout",
     "output_type": "stream",
     "text": [
      "(4,)\n"
     ]
    }
   ],
   "source": [
    "print(L.shape)"
   ],
   "metadata": {
    "collapsed": false,
    "ExecuteTime": {
     "end_time": "2024-03-05T20:10:57.355870Z",
     "start_time": "2024-03-05T20:10:57.325702Z"
    }
   }
  },
  {
   "cell_type": "code",
   "execution_count": 5,
   "outputs": [
    {
     "name": "stdout",
     "output_type": "stream",
     "text": [
      "[8. 9. 0. 1. 2.]\n"
     ]
    }
   ],
   "source": [
    "L2 = [8, 9, 0, 1.0, 2]\n",
    "L3 = np.array(L2)\n",
    "print(L3)"
   ],
   "metadata": {
    "collapsed": false,
    "ExecuteTime": {
     "end_time": "2024-03-05T20:10:57.366580Z",
     "start_time": "2024-03-05T20:10:57.343563Z"
    }
   }
  },
  {
   "cell_type": "code",
   "execution_count": 6,
   "outputs": [
    {
     "data": {
      "text/plain": "array([ 4,  1,  2,  9, 10])"
     },
     "execution_count": 6,
     "metadata": {},
     "output_type": "execute_result"
    }
   ],
   "source": [
    "V2 = np.array([4, 1, 2, 9, 10])\n",
    "V2"
   ],
   "metadata": {
    "collapsed": false,
    "ExecuteTime": {
     "end_time": "2024-03-05T20:10:57.374227Z",
     "start_time": "2024-03-05T20:10:57.348400Z"
    }
   }
  },
  {
   "cell_type": "code",
   "execution_count": 7,
   "outputs": [
    {
     "data": {
      "text/plain": "(5,)"
     },
     "execution_count": 7,
     "metadata": {},
     "output_type": "execute_result"
    }
   ],
   "source": [
    "V2.shape"
   ],
   "metadata": {
    "collapsed": false,
    "ExecuteTime": {
     "end_time": "2024-03-05T20:10:57.375456Z",
     "start_time": "2024-03-05T20:10:57.355391Z"
    }
   }
  },
  {
   "cell_type": "code",
   "execution_count": 8,
   "outputs": [
    {
     "data": {
      "text/plain": "array([[ 4],\n       [ 1],\n       [ 2],\n       [ 9],\n       [10]])"
     },
     "execution_count": 8,
     "metadata": {},
     "output_type": "execute_result"
    }
   ],
   "source": [
    "V3 = V2.reshape((-1, 1))\n",
    "V3"
   ],
   "metadata": {
    "collapsed": false,
    "ExecuteTime": {
     "end_time": "2024-03-05T20:10:57.376033Z",
     "start_time": "2024-03-05T20:10:57.372677Z"
    }
   }
  },
  {
   "cell_type": "code",
   "execution_count": 9,
   "outputs": [
    {
     "name": "stdout",
     "output_type": "stream",
     "text": [
      "[[ 4]\n",
      " [ 1]\n",
      " [ 2]\n",
      " [ 9]\n",
      " [10]]\n",
      "(5, 1)\n"
     ]
    }
   ],
   "source": [
    "print(V3)\n",
    "print(V3.shape)"
   ],
   "metadata": {
    "collapsed": false,
    "ExecuteTime": {
     "end_time": "2024-03-05T20:10:57.483392Z",
     "start_time": "2024-03-05T20:10:57.378220Z"
    }
   }
  },
  {
   "cell_type": "code",
   "execution_count": 10,
   "outputs": [
    {
     "data": {
      "text/plain": "array([4])"
     },
     "execution_count": 10,
     "metadata": {},
     "output_type": "execute_result"
    }
   ],
   "source": [
    "V3[0]"
   ],
   "metadata": {
    "collapsed": false,
    "ExecuteTime": {
     "end_time": "2024-03-05T20:10:57.484772Z",
     "start_time": "2024-03-05T20:10:57.384559Z"
    }
   }
  },
  {
   "cell_type": "code",
   "execution_count": 11,
   "outputs": [
    {
     "name": "stdout",
     "output_type": "stream",
     "text": [
      "[4]\n",
      "<class 'numpy.ndarray'>\n"
     ]
    }
   ],
   "source": [
    "print(V3[0])\n",
    "print(type(V3[0]))"
   ],
   "metadata": {
    "collapsed": false,
    "ExecuteTime": {
     "end_time": "2024-03-05T20:10:57.485434Z",
     "start_time": "2024-03-05T20:10:57.399995Z"
    }
   }
  },
  {
   "cell_type": "code",
   "execution_count": 12,
   "outputs": [
    {
     "name": "stdout",
     "output_type": "stream",
     "text": [
      "4\n",
      "<class 'numpy.int64'>\n"
     ]
    }
   ],
   "source": [
    "print(V2[0])\n",
    "print(type(V2[0]))"
   ],
   "metadata": {
    "collapsed": false,
    "ExecuteTime": {
     "end_time": "2024-03-05T20:10:57.486814Z",
     "start_time": "2024-03-05T20:10:57.406761Z"
    }
   }
  },
  {
   "cell_type": "markdown",
   "source": [
    "Matrices\n"
   ],
   "metadata": {
    "collapsed": false
   }
  },
  {
   "cell_type": "code",
   "execution_count": 13,
   "outputs": [
    {
     "name": "stdout",
     "output_type": "stream",
     "text": [
      "[[ 1  2  4  5]\n",
      " [ 0 -1 -2 10]]\n",
      "(2, 4)\n"
     ]
    }
   ],
   "source": [
    "M = np.array([[1, 2, 4, 5], [0, -1, -2, 10]])\n",
    "print(M)\n",
    "print(M.shape)"
   ],
   "metadata": {
    "collapsed": false,
    "ExecuteTime": {
     "end_time": "2024-03-05T20:10:57.487454Z",
     "start_time": "2024-03-05T20:10:57.414952Z"
    }
   }
  },
  {
   "cell_type": "code",
   "execution_count": 14,
   "outputs": [
    {
     "name": "stdout",
     "output_type": "stream",
     "text": [
      "[1 2 4 5]\n"
     ]
    }
   ],
   "source": [
    "r1 = M[0]\n",
    "print(r1)"
   ],
   "metadata": {
    "collapsed": false,
    "ExecuteTime": {
     "end_time": "2024-03-05T20:10:57.487941Z",
     "start_time": "2024-03-05T20:10:57.422441Z"
    }
   }
  },
  {
   "cell_type": "code",
   "execution_count": 15,
   "outputs": [
    {
     "name": "stdout",
     "output_type": "stream",
     "text": [
      "1\n"
     ]
    }
   ],
   "source": [
    "e1 = M[0,0]\n",
    "print(e1)"
   ],
   "metadata": {
    "collapsed": false,
    "ExecuteTime": {
     "end_time": "2024-03-05T20:10:57.512022Z",
     "start_time": "2024-03-05T20:10:57.429522Z"
    }
   }
  },
  {
   "cell_type": "code",
   "execution_count": 16,
   "outputs": [
    {
     "name": "stdout",
     "output_type": "stream",
     "text": [
      "[ 4 -2]\n"
     ]
    }
   ],
   "source": [
    "e1 = M[:,2]\n",
    "print(e1)"
   ],
   "metadata": {
    "collapsed": false,
    "ExecuteTime": {
     "end_time": "2024-03-05T20:10:57.512753Z",
     "start_time": "2024-03-05T20:10:57.435550Z"
    }
   }
  },
  {
   "cell_type": "code",
   "execution_count": 17,
   "outputs": [
    {
     "name": "stdout",
     "output_type": "stream",
     "text": [
      "[-2 10]\n"
     ]
    }
   ],
   "source": [
    "e1 = M[1, 2:]\n",
    "print(e1)"
   ],
   "metadata": {
    "collapsed": false,
    "ExecuteTime": {
     "end_time": "2024-03-05T20:10:57.514211Z",
     "start_time": "2024-03-05T20:10:57.445013Z"
    }
   }
  },
  {
   "cell_type": "markdown",
   "source": [
    "Tensor\n"
   ],
   "metadata": {
    "collapsed": false
   }
  },
  {
   "cell_type": "code",
   "execution_count": 18,
   "outputs": [],
   "source": [
    "M1 = np.array(([1, 2, 3], [4, 5, 6]))\n",
    "M2 = np.array(([-1, -2, -3], [-4, -5, -6]))\n",
    "M3 = np.array(([0, 1, 10], [20, 0, 30]))\n",
    "T = np.stack((M1, M2, M3))"
   ],
   "metadata": {
    "collapsed": false,
    "ExecuteTime": {
     "end_time": "2024-03-05T20:10:57.514678Z",
     "start_time": "2024-03-05T20:10:57.454464Z"
    }
   }
  },
  {
   "cell_type": "code",
   "execution_count": 19,
   "outputs": [
    {
     "name": "stdout",
     "output_type": "stream",
     "text": [
      "(2, 3)\n",
      "(3, 2, 3)\n"
     ]
    }
   ],
   "source": [
    "print(M1.shape)\n",
    "print(T.shape)"
   ],
   "metadata": {
    "collapsed": false,
    "ExecuteTime": {
     "end_time": "2024-03-05T20:10:57.515320Z",
     "start_time": "2024-03-05T20:10:57.460008Z"
    }
   }
  },
  {
   "cell_type": "code",
   "execution_count": 20,
   "outputs": [
    {
     "name": "stdout",
     "output_type": "stream",
     "text": [
      "[[[ 1  2  3]\n",
      "  [ 4  5  6]]\n",
      "\n",
      " [[-1 -2 -3]\n",
      "  [-4 -5 -6]]\n",
      "\n",
      " [[ 0  1 10]\n",
      "  [20  0 30]]]\n"
     ]
    }
   ],
   "source": [
    "print(T)"
   ],
   "metadata": {
    "collapsed": false,
    "ExecuteTime": {
     "end_time": "2024-03-05T20:10:57.516060Z",
     "start_time": "2024-03-05T20:10:57.468561Z"
    }
   }
  },
  {
   "cell_type": "code",
   "execution_count": 21,
   "outputs": [
    {
     "name": "stdout",
     "output_type": "stream",
     "text": [
      "[[ 4]\n",
      " [ 1]\n",
      " [ 2]\n",
      " [ 9]\n",
      " [10]]\n"
     ]
    }
   ],
   "source": [
    "print(V3)"
   ],
   "metadata": {
    "collapsed": false,
    "ExecuteTime": {
     "end_time": "2024-03-05T20:10:57.516755Z",
     "start_time": "2024-03-05T20:10:57.471518Z"
    }
   }
  },
  {
   "cell_type": "code",
   "execution_count": 22,
   "outputs": [
    {
     "data": {
      "text/plain": "array([[ 4],\n       [ 1],\n       [ 2],\n       [ 9],\n       [10]])"
     },
     "execution_count": 22,
     "metadata": {},
     "output_type": "execute_result"
    }
   ],
   "source": [
    "V3"
   ],
   "metadata": {
    "collapsed": false,
    "ExecuteTime": {
     "end_time": "2024-03-05T20:11:04.841579Z",
     "start_time": "2024-03-05T20:11:04.811901Z"
    }
   }
  },
  {
   "cell_type": "code",
   "execution_count": 24,
   "outputs": [
    {
     "name": "stdout",
     "output_type": "stream",
     "text": [
      "[[ 4]\n",
      " [ 1]\n",
      " [ 2]\n",
      " [ 9]\n",
      " [10]]\n",
      "[[12]\n",
      " [ 3]\n",
      " [ 6]\n",
      " [27]\n",
      " [30]]\n"
     ]
    }
   ],
   "source": [
    "V4 = 3 * V3\n",
    "print(V3)\n",
    "print(V4)V4"
   ],
   "metadata": {
    "collapsed": false,
    "ExecuteTime": {
     "end_time": "2024-03-05T20:11:41.693699Z",
     "start_time": "2024-03-05T20:11:41.684434Z"
    }
   }
  },
  {
   "cell_type": "code",
   "execution_count": 25,
   "outputs": [
    {
     "data": {
      "text/plain": "array([[1.2],\n       [0.3],\n       [0.6],\n       [2.7],\n       [3. ]])"
     },
     "execution_count": 25,
     "metadata": {},
     "output_type": "execute_result"
    }
   ],
   "source": [
    "V4 = 0.3 * V3\n",
    "V4"
   ],
   "metadata": {
    "collapsed": false,
    "ExecuteTime": {
     "end_time": "2024-03-05T20:12:25.399731Z",
     "start_time": "2024-03-05T20:12:25.382751Z"
    }
   }
  },
  {
   "cell_type": "code",
   "execution_count": 26,
   "outputs": [
    {
     "name": "stdout",
     "output_type": "stream",
     "text": [
      "[[1.2]\n",
      " [0.3]\n",
      " [0.6]\n",
      " [2.7]\n",
      " [3. ]]\n"
     ]
    }
   ],
   "source": [
    "print(V4)"
   ],
   "metadata": {
    "collapsed": false,
    "ExecuteTime": {
     "end_time": "2024-03-05T20:12:34.052966Z",
     "start_time": "2024-03-05T20:12:34.010538Z"
    }
   }
  },
  {
   "cell_type": "code",
   "execution_count": 27,
   "outputs": [
    {
     "name": "stdout",
     "output_type": "stream",
     "text": [
      "[[ 1  2  4  5]\n",
      " [ 0 -1 -2 10]]\n"
     ]
    }
   ],
   "source": [
    "print(M)"
   ],
   "metadata": {
    "collapsed": false,
    "ExecuteTime": {
     "end_time": "2024-03-05T20:14:49.385946Z",
     "start_time": "2024-03-05T20:14:49.362739Z"
    }
   }
  },
  {
   "cell_type": "code",
   "execution_count": 28,
   "outputs": [
    {
     "name": "stdout",
     "output_type": "stream",
     "text": [
      "[[ 10  20  40  50]\n",
      " [  0 -10 -20 100]]\n"
     ]
    }
   ],
   "source": [
    "M4 = 10 * M\n",
    "print(M4)"
   ],
   "metadata": {
    "collapsed": false,
    "ExecuteTime": {
     "end_time": "2024-03-05T20:15:13.045376Z",
     "start_time": "2024-03-05T20:15:13.015854Z"
    }
   }
  },
  {
   "cell_type": "code",
   "execution_count": 29,
   "outputs": [
    {
     "name": "stdout",
     "output_type": "stream",
     "text": [
      "[[ 10  20  40  50]\n",
      " [  0 -10 -20 100]]\n"
     ]
    }
   ],
   "source": [
    "M5 = M * 10\n",
    "print(M5)"
   ],
   "metadata": {
    "collapsed": false,
    "ExecuteTime": {
     "end_time": "2024-03-05T20:15:38.264993Z",
     "start_time": "2024-03-05T20:15:38.247541Z"
    }
   }
  },
  {
   "cell_type": "code",
   "execution_count": 30,
   "outputs": [
    {
     "name": "stdout",
     "output_type": "stream",
     "text": [
      "[[ 0.4  0.8  1.6  2. ]\n",
      " [ 0.  -0.4 -0.8  4. ]]\n"
     ]
    }
   ],
   "source": [
    "M6 = np.multiply(0.4, M)\n",
    "print(M6)"
   ],
   "metadata": {
    "collapsed": false,
    "ExecuteTime": {
     "end_time": "2024-03-05T20:16:01.855565Z",
     "start_time": "2024-03-05T20:16:01.838069Z"
    }
   }
  },
  {
   "cell_type": "code",
   "execution_count": 31,
   "outputs": [
    {
     "name": "stdout",
     "output_type": "stream",
     "text": [
      "[ 4  1  2  9 10]\n"
     ]
    }
   ],
   "source": [
    "print(V2)"
   ],
   "metadata": {
    "collapsed": false,
    "ExecuteTime": {
     "end_time": "2024-03-05T20:21:18.494601Z",
     "start_time": "2024-03-05T20:21:18.443913Z"
    }
   }
  },
  {
   "cell_type": "code",
   "execution_count": 32,
   "outputs": [],
   "source": [
    "V5 = np.transpose(V2)"
   ],
   "metadata": {
    "collapsed": false,
    "ExecuteTime": {
     "end_time": "2024-03-05T20:21:37.257157Z",
     "start_time": "2024-03-05T20:21:37.239480Z"
    }
   }
  },
  {
   "cell_type": "code",
   "execution_count": 33,
   "outputs": [
    {
     "name": "stdout",
     "output_type": "stream",
     "text": [
      "[ 4  1  2  9 10]\n"
     ]
    }
   ],
   "source": [
    "print(V5)"
   ],
   "metadata": {
    "collapsed": false,
    "ExecuteTime": {
     "end_time": "2024-03-05T20:21:42.288226Z",
     "start_time": "2024-03-05T20:21:42.271893Z"
    }
   }
  },
  {
   "cell_type": "code",
   "execution_count": 34,
   "outputs": [
    {
     "name": "stdout",
     "output_type": "stream",
     "text": [
      "(5,)\n",
      "(5,)\n"
     ]
    }
   ],
   "source": [
    "print(V5.shape)\n",
    "print(V2.shape)"
   ],
   "metadata": {
    "collapsed": false,
    "ExecuteTime": {
     "end_time": "2024-03-05T20:22:02.997889Z",
     "start_time": "2024-03-05T20:22:02.968270Z"
    }
   }
  },
  {
   "cell_type": "code",
   "execution_count": 35,
   "outputs": [
    {
     "name": "stdout",
     "output_type": "stream",
     "text": [
      "[[ 4]\n",
      " [ 1]\n",
      " [ 2]\n",
      " [ 9]\n",
      " [10]]\n"
     ]
    }
   ],
   "source": [
    "print(V3)"
   ],
   "metadata": {
    "collapsed": false,
    "ExecuteTime": {
     "end_time": "2024-03-05T20:22:17.780671Z",
     "start_time": "2024-03-05T20:22:17.749279Z"
    }
   }
  },
  {
   "cell_type": "code",
   "execution_count": 36,
   "outputs": [
    {
     "name": "stdout",
     "output_type": "stream",
     "text": [
      "[[ 4  1  2  9 10]]\n"
     ]
    }
   ],
   "source": [
    "V6 = np.transpose(V3)\n",
    "print(V6)"
   ],
   "metadata": {
    "collapsed": false,
    "ExecuteTime": {
     "end_time": "2024-03-05T20:22:42.241615Z",
     "start_time": "2024-03-05T20:22:42.211913Z"
    }
   }
  },
  {
   "cell_type": "code",
   "execution_count": 37,
   "outputs": [
    {
     "name": "stdout",
     "output_type": "stream",
     "text": [
      "[[ 4]\n",
      " [ 1]\n",
      " [ 2]\n",
      " [ 9]\n",
      " [10]]\n"
     ]
    }
   ],
   "source": [
    "V7 = np.transpose(V6)\n",
    "print(V7)"
   ],
   "metadata": {
    "collapsed": false,
    "ExecuteTime": {
     "end_time": "2024-03-05T20:23:41.912163Z",
     "start_time": "2024-03-05T20:23:41.851204Z"
    }
   }
  },
  {
   "cell_type": "code",
   "execution_count": 38,
   "outputs": [
    {
     "name": "stdout",
     "output_type": "stream",
     "text": [
      "(5, 1)\n",
      "(1, 5)\n",
      "(5,)\n"
     ]
    }
   ],
   "source": [
    "print(V7.shape)\n",
    "print(V6.shape)\n",
    "print(V2.shape)"
   ],
   "metadata": {
    "collapsed": false,
    "ExecuteTime": {
     "end_time": "2024-03-05T20:24:11.231972Z",
     "start_time": "2024-03-05T20:24:11.200599Z"
    }
   }
  },
  {
   "cell_type": "code",
   "execution_count": 39,
   "outputs": [
    {
     "name": "stdout",
     "output_type": "stream",
     "text": [
      "[[ 1  2  4  5]\n",
      " [ 0 -1 -2 10]]\n"
     ]
    }
   ],
   "source": [
    "print(M)"
   ],
   "metadata": {
    "collapsed": false,
    "ExecuteTime": {
     "end_time": "2024-03-05T20:25:45.339921Z",
     "start_time": "2024-03-05T20:25:45.310555Z"
    }
   }
  },
  {
   "cell_type": "code",
   "execution_count": 40,
   "outputs": [
    {
     "name": "stdout",
     "output_type": "stream",
     "text": [
      "[[ 1  0]\n",
      " [ 2 -1]\n",
      " [ 4 -2]\n",
      " [ 5 10]]\n",
      "(4, 2)\n"
     ]
    }
   ],
   "source": [
    "Mt = np.transpose(M)\n",
    "print(Mt)\n",
    "print(Mt.shape)"
   ],
   "metadata": {
    "collapsed": false,
    "ExecuteTime": {
     "end_time": "2024-03-05T20:26:06.445636Z",
     "start_time": "2024-03-05T20:26:06.392196Z"
    }
   }
  },
  {
   "cell_type": "code",
   "execution_count": 41,
   "outputs": [
    {
     "name": "stdout",
     "output_type": "stream",
     "text": [
      "(2, 4)\n"
     ]
    }
   ],
   "source": [
    "print(M.shape)"
   ],
   "metadata": {
    "collapsed": false,
    "ExecuteTime": {
     "end_time": "2024-03-05T20:26:37.096872Z",
     "start_time": "2024-03-05T20:26:37.039857Z"
    }
   }
  },
  {
   "cell_type": "code",
   "execution_count": 42,
   "outputs": [
    {
     "name": "stdout",
     "output_type": "stream",
     "text": [
      "[[ 4]\n",
      " [ 1]\n",
      " [ 2]\n",
      " [ 9]\n",
      " [10]]\n"
     ]
    }
   ],
   "source": [
    "print(V3)"
   ],
   "metadata": {
    "collapsed": false,
    "ExecuteTime": {
     "end_time": "2024-03-05T20:29:20.859799Z",
     "start_time": "2024-03-05T20:29:20.829805Z"
    }
   }
  },
  {
   "cell_type": "code",
   "execution_count": 43,
   "outputs": [
    {
     "name": "stdout",
     "output_type": "stream",
     "text": [
      "[[1.2]\n",
      " [0.3]\n",
      " [0.6]\n",
      " [2.7]\n",
      " [3. ]]\n"
     ]
    }
   ],
   "source": [
    "print(V4)"
   ],
   "metadata": {
    "collapsed": false,
    "ExecuteTime": {
     "end_time": "2024-03-05T20:29:26.439702Z",
     "start_time": "2024-03-05T20:29:26.402937Z"
    }
   }
  },
  {
   "cell_type": "code",
   "execution_count": 44,
   "outputs": [
    {
     "name": "stdout",
     "output_type": "stream",
     "text": [
      "[[ 5.2]\n",
      " [ 1.3]\n",
      " [ 2.6]\n",
      " [11.7]\n",
      " [13. ]]\n"
     ]
    }
   ],
   "source": [
    "V8 = V3 + V4\n",
    "print(V8)"
   ],
   "metadata": {
    "collapsed": false,
    "ExecuteTime": {
     "end_time": "2024-03-05T20:29:59.150084Z",
     "start_time": "2024-03-05T20:29:59.118331Z"
    }
   }
  },
  {
   "cell_type": "code",
   "execution_count": 45,
   "outputs": [
    {
     "name": "stdout",
     "output_type": "stream",
     "text": [
      "[[ 4.6 ]\n",
      " [ 1.15]\n",
      " [ 2.3 ]\n",
      " [10.35]\n",
      " [11.5 ]]\n"
     ]
    }
   ],
   "source": [
    "V9 = V3 + (0.5*V4)\n",
    "print(V9)"
   ],
   "metadata": {
    "collapsed": false,
    "ExecuteTime": {
     "end_time": "2024-03-05T20:30:54.426585Z",
     "start_time": "2024-03-05T20:30:54.395504Z"
    }
   }
  },
  {
   "cell_type": "code",
   "execution_count": 46,
   "outputs": [
    {
     "name": "stdout",
     "output_type": "stream",
     "text": [
      "[[2.8]\n",
      " [0.7]\n",
      " [1.4]\n",
      " [6.3]\n",
      " [7. ]]\n"
     ]
    }
   ],
   "source": [
    "V10 = V3 - V4\n",
    "print(V10)"
   ],
   "metadata": {
    "collapsed": false,
    "ExecuteTime": {
     "end_time": "2024-03-05T20:32:14.029573Z",
     "start_time": "2024-03-05T20:32:13.997877Z"
    }
   }
  },
  {
   "cell_type": "code",
   "execution_count": 47,
   "outputs": [
    {
     "name": "stdout",
     "output_type": "stream",
     "text": [
      "[[0]\n",
      " [0]\n",
      " [0]\n",
      " [0]\n",
      " [0]]\n"
     ]
    }
   ],
   "source": [
    "print(V3 - V3)"
   ],
   "metadata": {
    "collapsed": false,
    "ExecuteTime": {
     "end_time": "2024-03-05T20:32:45.846119Z",
     "start_time": "2024-03-05T20:32:45.778017Z"
    }
   }
  },
  {
   "cell_type": "code",
   "execution_count": 48,
   "outputs": [
    {
     "name": "stdout",
     "output_type": "stream",
     "text": [
      "[[ 1  2  4  5]\n",
      " [ 0 -1 -2 10]]\n"
     ]
    }
   ],
   "source": [
    "print(M)"
   ],
   "metadata": {
    "collapsed": false,
    "ExecuteTime": {
     "end_time": "2024-03-05T20:34:01.350076Z",
     "start_time": "2024-03-05T20:34:01.317083Z"
    }
   }
  },
  {
   "cell_type": "code",
   "execution_count": 49,
   "outputs": [
    {
     "name": "stdout",
     "output_type": "stream",
     "text": [
      "[[-1 -2 -3]\n",
      " [-4 -5 -6]]\n"
     ]
    }
   ],
   "source": [
    "print(M2)"
   ],
   "metadata": {
    "collapsed": false,
    "ExecuteTime": {
     "end_time": "2024-03-05T20:34:06.349532Z",
     "start_time": "2024-03-05T20:34:06.315509Z"
    }
   }
  },
  {
   "cell_type": "code",
   "execution_count": 50,
   "outputs": [
    {
     "name": "stdout",
     "output_type": "stream",
     "text": [
      "[[ 0  1 10]\n",
      " [20  0 30]]\n"
     ]
    }
   ],
   "source": [
    "print (M3)"
   ],
   "metadata": {
    "collapsed": false,
    "ExecuteTime": {
     "end_time": "2024-03-05T20:34:15.551833Z",
     "start_time": "2024-03-05T20:34:15.514558Z"
    }
   }
  },
  {
   "cell_type": "code",
   "execution_count": 51,
   "outputs": [
    {
     "name": "stdout",
     "output_type": "stream",
     "text": [
      "[[-1 -1  7]\n",
      " [16 -5 24]]\n"
     ]
    }
   ],
   "source": [
    "M7= M2 + M3\n",
    "print(M7)"
   ],
   "metadata": {
    "collapsed": false,
    "ExecuteTime": {
     "end_time": "2024-03-05T20:34:39.154226Z",
     "start_time": "2024-03-05T20:34:39.119341Z"
    }
   }
  },
  {
   "cell_type": "code",
   "execution_count": 52,
   "outputs": [
    {
     "name": "stdout",
     "output_type": "stream",
     "text": [
      "[[ -2  -3   4]\n",
      " [ 12 -10  18]]\n"
     ]
    }
   ],
   "source": [
    "M8 = 2*M2 + M3\n",
    "print(M8)"
   ],
   "metadata": {
    "collapsed": false,
    "ExecuteTime": {
     "end_time": "2024-03-05T20:35:29.568702Z",
     "start_time": "2024-03-05T20:35:29.528395Z"
    }
   }
  },
  {
   "cell_type": "code",
   "execution_count": 53,
   "outputs": [
    {
     "name": "stdout",
     "output_type": "stream",
     "text": [
      "[[0 0 0]\n",
      " [0 0 0]]\n"
     ]
    }
   ],
   "source": [
    "M8 = M2 - M2\n",
    "print(M8)"
   ],
   "metadata": {
    "collapsed": false,
    "ExecuteTime": {
     "end_time": "2024-03-05T20:38:27.376244Z",
     "start_time": "2024-03-05T20:38:27.340705Z"
    }
   }
  },
  {
   "cell_type": "code",
   "execution_count": 54,
   "outputs": [
    {
     "name": "stdout",
     "output_type": "stream",
     "text": [
      "[[ 1  3 13]\n",
      " [24  5 36]]\n"
     ]
    }
   ],
   "source": [
    "M8 = M3 - M2\n",
    "print(M8)"
   ],
   "metadata": {
    "collapsed": false,
    "ExecuteTime": {
     "end_time": "2024-03-05T20:38:48.266076Z",
     "start_time": "2024-03-05T20:38:48.221405Z"
    }
   }
  },
  {
   "cell_type": "code",
   "execution_count": null,
   "outputs": [],
   "source": [],
   "metadata": {
    "collapsed": false
   }
  }
 ],
 "metadata": {
  "kernelspec": {
   "display_name": "Python 3",
   "language": "python",
   "name": "python3"
  },
  "language_info": {
   "codemirror_mode": {
    "name": "ipython",
    "version": 2
   },
   "file_extension": ".py",
   "mimetype": "text/x-python",
   "name": "python",
   "nbconvert_exporter": "python",
   "pygments_lexer": "ipython2",
   "version": "2.7.6"
  }
 },
 "nbformat": 4,
 "nbformat_minor": 0
}
