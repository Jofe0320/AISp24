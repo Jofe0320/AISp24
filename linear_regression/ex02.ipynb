{
 "cells": [
  {
   "cell_type": "code",
   "execution_count": 114,
   "metadata": {
    "collapsed": true,
    "ExecuteTime": {
     "end_time": "2024-02-22T20:40:09.977414Z",
     "start_time": "2024-02-22T20:40:09.973994Z"
    }
   },
   "outputs": [],
   "source": [
    "import torch\n",
    "import numpy as np\n",
    "import pandas as pd\n",
    "from torch.utils import data\n",
    "from torch.utils.data import Dataset, TensorDataset, DataLoader\n",
    "from torch import nn\n"
   ]
  },
  {
   "cell_type": "code",
   "execution_count": 114,
   "outputs": [],
   "source": [],
   "metadata": {
    "collapsed": false,
    "ExecuteTime": {
     "end_time": "2024-02-22T20:40:11.800362Z",
     "start_time": "2024-02-22T20:40:11.783048Z"
    }
   }
  },
  {
   "cell_type": "markdown",
   "source": [
    "The Data set is the AutoMPG Dataset\n"
   ],
   "metadata": {
    "collapsed": false
   }
  },
  {
   "cell_type": "code",
   "execution_count": 115,
   "outputs": [],
   "source": [
    "url = 'http://archive.ics.uci.edu/ml/machine-learning-databases/auto-mpg/auto-mpg.data'\n",
    "column_names = ['MPG', 'Cylinders', 'Displacement', 'Horsepower', 'Weight',\n",
    "                'Acceleration', 'Model Year', 'Origin']\n",
    "\n",
    "raw_dataset = pd.read_csv(url, names=column_names,\n",
    "                          na_values='?', comment='\\t',\n",
    "                          sep=' ', skipinitialspace=True)"
   ],
   "metadata": {
    "collapsed": false,
    "ExecuteTime": {
     "end_time": "2024-02-22T20:40:14.501756Z",
     "start_time": "2024-02-22T20:40:13.739401Z"
    }
   }
  },
  {
   "cell_type": "code",
   "execution_count": 116,
   "outputs": [
    {
     "data": {
      "text/plain": "      MPG  Cylinders  Displacement  Horsepower  Weight  Acceleration  \\\n393  27.0          4         140.0        86.0  2790.0          15.6   \n394  44.0          4          97.0        52.0  2130.0          24.6   \n395  32.0          4         135.0        84.0  2295.0          11.6   \n396  28.0          4         120.0        79.0  2625.0          18.6   \n397  31.0          4         119.0        82.0  2720.0          19.4   \n\n     Model Year  Origin  \n393          82       1  \n394          82       2  \n395          82       1  \n396          82       1  \n397          82       1  ",
      "text/html": "<div>\n<style scoped>\n    .dataframe tbody tr th:only-of-type {\n        vertical-align: middle;\n    }\n\n    .dataframe tbody tr th {\n        vertical-align: top;\n    }\n\n    .dataframe thead th {\n        text-align: right;\n    }\n</style>\n<table border=\"1\" class=\"dataframe\">\n  <thead>\n    <tr style=\"text-align: right;\">\n      <th></th>\n      <th>MPG</th>\n      <th>Cylinders</th>\n      <th>Displacement</th>\n      <th>Horsepower</th>\n      <th>Weight</th>\n      <th>Acceleration</th>\n      <th>Model Year</th>\n      <th>Origin</th>\n    </tr>\n  </thead>\n  <tbody>\n    <tr>\n      <th>393</th>\n      <td>27.0</td>\n      <td>4</td>\n      <td>140.0</td>\n      <td>86.0</td>\n      <td>2790.0</td>\n      <td>15.6</td>\n      <td>82</td>\n      <td>1</td>\n    </tr>\n    <tr>\n      <th>394</th>\n      <td>44.0</td>\n      <td>4</td>\n      <td>97.0</td>\n      <td>52.0</td>\n      <td>2130.0</td>\n      <td>24.6</td>\n      <td>82</td>\n      <td>2</td>\n    </tr>\n    <tr>\n      <th>395</th>\n      <td>32.0</td>\n      <td>4</td>\n      <td>135.0</td>\n      <td>84.0</td>\n      <td>2295.0</td>\n      <td>11.6</td>\n      <td>82</td>\n      <td>1</td>\n    </tr>\n    <tr>\n      <th>396</th>\n      <td>28.0</td>\n      <td>4</td>\n      <td>120.0</td>\n      <td>79.0</td>\n      <td>2625.0</td>\n      <td>18.6</td>\n      <td>82</td>\n      <td>1</td>\n    </tr>\n    <tr>\n      <th>397</th>\n      <td>31.0</td>\n      <td>4</td>\n      <td>119.0</td>\n      <td>82.0</td>\n      <td>2720.0</td>\n      <td>19.4</td>\n      <td>82</td>\n      <td>1</td>\n    </tr>\n  </tbody>\n</table>\n</div>"
     },
     "execution_count": 116,
     "metadata": {},
     "output_type": "execute_result"
    }
   ],
   "source": [
    "dataset = raw_dataset.copy()\n",
    "dataset.tail()"
   ],
   "metadata": {
    "collapsed": false,
    "ExecuteTime": {
     "end_time": "2024-02-22T20:40:17.773976Z",
     "start_time": "2024-02-22T20:40:17.746354Z"
    }
   }
  },
  {
   "cell_type": "markdown",
   "source": [
    "Now procede to clean the data by removing the Nan and fixing other values.\n"
   ],
   "metadata": {
    "collapsed": false
   }
  },
  {
   "cell_type": "code",
   "execution_count": 30,
   "outputs": [
    {
     "data": {
      "text/plain": "MPG             0\nCylinders       0\nDisplacement    0\nHorsepower      6\nWeight          0\nAcceleration    0\nModel Year      0\nOrigin          0\ndtype: int64"
     },
     "execution_count": 30,
     "metadata": {},
     "output_type": "execute_result"
    }
   ],
   "source": [
    "dataset.isna().sum()\n"
   ],
   "metadata": {
    "collapsed": false,
    "ExecuteTime": {
     "end_time": "2024-02-22T18:31:53.725532Z",
     "start_time": "2024-02-22T18:31:53.720386Z"
    }
   }
  },
  {
   "cell_type": "code",
   "execution_count": 31,
   "outputs": [],
   "source": [
    "dataset = dataset.dropna()\n"
   ],
   "metadata": {
    "collapsed": false,
    "ExecuteTime": {
     "end_time": "2024-02-22T18:31:54.506683Z",
     "start_time": "2024-02-22T18:31:54.500398Z"
    }
   }
  },
  {
   "cell_type": "markdown",
   "source": [
    "Change categorical column\n"
   ],
   "metadata": {
    "collapsed": false
   }
  },
  {
   "cell_type": "code",
   "execution_count": 32,
   "outputs": [
    {
     "data": {
      "text/plain": "      MPG  Cylinders  Displacement  Horsepower  Weight  Acceleration  \\\n393  27.0          4         140.0        86.0  2790.0          15.6   \n394  44.0          4          97.0        52.0  2130.0          24.6   \n395  32.0          4         135.0        84.0  2295.0          11.6   \n396  28.0          4         120.0        79.0  2625.0          18.6   \n397  31.0          4         119.0        82.0  2720.0          19.4   \n\n     Model Year  Europe  Japan    USA  \n393          82   False  False   True  \n394          82    True  False  False  \n395          82   False  False   True  \n396          82   False  False   True  \n397          82   False  False   True  ",
      "text/html": "<div>\n<style scoped>\n    .dataframe tbody tr th:only-of-type {\n        vertical-align: middle;\n    }\n\n    .dataframe tbody tr th {\n        vertical-align: top;\n    }\n\n    .dataframe thead th {\n        text-align: right;\n    }\n</style>\n<table border=\"1\" class=\"dataframe\">\n  <thead>\n    <tr style=\"text-align: right;\">\n      <th></th>\n      <th>MPG</th>\n      <th>Cylinders</th>\n      <th>Displacement</th>\n      <th>Horsepower</th>\n      <th>Weight</th>\n      <th>Acceleration</th>\n      <th>Model Year</th>\n      <th>Europe</th>\n      <th>Japan</th>\n      <th>USA</th>\n    </tr>\n  </thead>\n  <tbody>\n    <tr>\n      <th>393</th>\n      <td>27.0</td>\n      <td>4</td>\n      <td>140.0</td>\n      <td>86.0</td>\n      <td>2790.0</td>\n      <td>15.6</td>\n      <td>82</td>\n      <td>False</td>\n      <td>False</td>\n      <td>True</td>\n    </tr>\n    <tr>\n      <th>394</th>\n      <td>44.0</td>\n      <td>4</td>\n      <td>97.0</td>\n      <td>52.0</td>\n      <td>2130.0</td>\n      <td>24.6</td>\n      <td>82</td>\n      <td>True</td>\n      <td>False</td>\n      <td>False</td>\n    </tr>\n    <tr>\n      <th>395</th>\n      <td>32.0</td>\n      <td>4</td>\n      <td>135.0</td>\n      <td>84.0</td>\n      <td>2295.0</td>\n      <td>11.6</td>\n      <td>82</td>\n      <td>False</td>\n      <td>False</td>\n      <td>True</td>\n    </tr>\n    <tr>\n      <th>396</th>\n      <td>28.0</td>\n      <td>4</td>\n      <td>120.0</td>\n      <td>79.0</td>\n      <td>2625.0</td>\n      <td>18.6</td>\n      <td>82</td>\n      <td>False</td>\n      <td>False</td>\n      <td>True</td>\n    </tr>\n    <tr>\n      <th>397</th>\n      <td>31.0</td>\n      <td>4</td>\n      <td>119.0</td>\n      <td>82.0</td>\n      <td>2720.0</td>\n      <td>19.4</td>\n      <td>82</td>\n      <td>False</td>\n      <td>False</td>\n      <td>True</td>\n    </tr>\n  </tbody>\n</table>\n</div>"
     },
     "execution_count": 32,
     "metadata": {},
     "output_type": "execute_result"
    }
   ],
   "source": [
    "dataset['Origin'] = dataset['Origin'].map({1: 'USA', 2: 'Europe', 3: 'Japan'})\n",
    "dataset = pd.get_dummies(dataset, columns=['Origin'], prefix='', prefix_sep='')\n",
    "dataset.tail()"
   ],
   "metadata": {
    "collapsed": false,
    "ExecuteTime": {
     "end_time": "2024-02-22T18:31:56.104187Z",
     "start_time": "2024-02-22T18:31:56.088482Z"
    }
   }
  },
  {
   "cell_type": "code",
   "execution_count": 33,
   "outputs": [
    {
     "name": "stdout",
     "output_type": "stream",
     "text": [
      "shape of train_dataset:  (314, 10)\n",
      "shape of test_dataset:  (78, 10)\n"
     ]
    }
   ],
   "source": [
    "train_dataset = dataset.sample(frac=0.8, random_state=0)\n",
    "test_dataset = dataset.drop(train_dataset.index)\n",
    "print(\"shape of train_dataset: \", train_dataset.shape)\n",
    "print(\"shape of test_dataset: \", test_dataset.shape)\n"
   ],
   "metadata": {
    "collapsed": false,
    "ExecuteTime": {
     "end_time": "2024-02-22T18:31:58.258127Z",
     "start_time": "2024-02-22T18:31:58.255238Z"
    }
   }
  },
  {
   "cell_type": "code",
   "execution_count": 34,
   "outputs": [
    {
     "name": "stdout",
     "output_type": "stream",
     "text": [
      "shape of train_features:  (314, 9)\n",
      "shape of test_features:  (78, 9)\n",
      "shape of train_labels:  (314,)\n",
      "shape of test_labels:  (78,)\n"
     ]
    }
   ],
   "source": [
    "train_features = train_dataset.copy()\n",
    "test_features = test_dataset.copy()\n",
    "\n",
    "train_labels = train_features.pop('MPG')\n",
    "test_labels = test_features.pop('MPG')\n",
    "print(\"shape of train_features: \", train_features.shape)\n",
    "print(\"shape of test_features: \", test_features.shape)\n",
    "print(\"shape of train_labels: \", train_labels.shape)\n",
    "print(\"shape of test_labels: \", test_labels.shape)"
   ],
   "metadata": {
    "collapsed": false,
    "ExecuteTime": {
     "end_time": "2024-02-22T18:32:00.110975Z",
     "start_time": "2024-02-22T18:32:00.103124Z"
    }
   }
  },
  {
   "cell_type": "code",
   "execution_count": null,
   "outputs": [],
   "source": [],
   "metadata": {
    "collapsed": false
   }
  },
  {
   "cell_type": "code",
   "execution_count": 84,
   "outputs": [
    {
     "name": "stdout",
     "output_type": "stream",
     "text": [
      "sample batch:  [tensor([[4.0000e+00, 9.0000e+01, 7.1000e+01, 2.2230e+03, 1.6500e+01, 7.5000e+01,\n",
      "         1.0000e+00, 0.0000e+00, 0.0000e+00],\n",
      "        [6.0000e+00, 1.5500e+02, 1.0700e+02, 2.4720e+03, 1.4000e+01, 7.3000e+01,\n",
      "         0.0000e+00, 0.0000e+00, 1.0000e+00],\n",
      "        [4.0000e+00, 1.2000e+02, 8.7000e+01, 2.9790e+03, 1.9500e+01, 7.2000e+01,\n",
      "         1.0000e+00, 0.0000e+00, 0.0000e+00],\n",
      "        [4.0000e+00, 1.0700e+02, 8.6000e+01, 2.4640e+03, 1.5500e+01, 7.6000e+01,\n",
      "         1.0000e+00, 0.0000e+00, 0.0000e+00],\n",
      "        [6.0000e+00, 2.3100e+02, 1.0500e+02, 3.4250e+03, 1.6900e+01, 7.7000e+01,\n",
      "         0.0000e+00, 0.0000e+00, 1.0000e+00],\n",
      "        [4.0000e+00, 7.1000e+01, 6.5000e+01, 1.7730e+03, 1.9000e+01, 7.1000e+01,\n",
      "         0.0000e+00, 1.0000e+00, 0.0000e+00],\n",
      "        [4.0000e+00, 1.1600e+02, 7.5000e+01, 2.2460e+03, 1.4000e+01, 7.4000e+01,\n",
      "         1.0000e+00, 0.0000e+00, 0.0000e+00],\n",
      "        [4.0000e+00, 1.2000e+02, 8.8000e+01, 3.2700e+03, 2.1900e+01, 7.6000e+01,\n",
      "         1.0000e+00, 0.0000e+00, 0.0000e+00],\n",
      "        [4.0000e+00, 1.0500e+02, 6.3000e+01, 2.2150e+03, 1.4900e+01, 8.1000e+01,\n",
      "         0.0000e+00, 0.0000e+00, 1.0000e+00],\n",
      "        [4.0000e+00, 1.0500e+02, 6.3000e+01, 2.1250e+03, 1.4700e+01, 8.2000e+01,\n",
      "         0.0000e+00, 0.0000e+00, 1.0000e+00]]), tensor([[25.0000],\n",
      "        [21.0000],\n",
      "        [21.0000],\n",
      "        [28.0000],\n",
      "        [20.5000],\n",
      "        [31.0000],\n",
      "        [26.0000],\n",
      "        [19.0000],\n",
      "        [34.7000],\n",
      "        [38.0000]])]\n",
      "batch len:  2\n"
     ]
    }
   ],
   "source": [
    "batch = 10\n",
    "X =np.array(train_features.values.astype(np.float32))\n",
    "X = torch.Tensor(X)\n",
    "y = np.array(train_labels.values.astype(np.float32))\n",
    "y = torch.Tensor(y)\n",
    "y = torch.reshape(y, (-1,1))\n",
    "train = TensorDataset(X,y)\n",
    "train_dataloader = DataLoader(train, batch_size=batch, shuffle=True)\n",
    "sample = next(iter(train_dataloader))\n",
    "print(\"sample batch: \", sample)\n",
    "print(\"batch len: \", len(sample))"
   ],
   "metadata": {
    "collapsed": false,
    "ExecuteTime": {
     "end_time": "2024-02-22T19:13:13.718864Z",
     "start_time": "2024-02-22T19:13:13.692225Z"
    }
   }
  },
  {
   "cell_type": "code",
   "execution_count": 85,
   "outputs": [
    {
     "name": "stdout",
     "output_type": "stream",
     "text": [
      "Shape of X [N, C, H, W]: torch.Size([10, 9])\n",
      "Shape of y: torch.Size([10, 1]) torch.float32\n"
     ]
    }
   ],
   "source": [
    "for X, y in train_dataloader:\n",
    "    print(f\"Shape of X [N, C, H, W]: {X.shape}\")\n",
    "    print(f\"Shape of y: {y.shape} {y.dtype}\")\n",
    "    break"
   ],
   "metadata": {
    "collapsed": false,
    "ExecuteTime": {
     "end_time": "2024-02-22T19:13:14.597402Z",
     "start_time": "2024-02-22T19:13:14.590446Z"
    }
   }
  },
  {
   "cell_type": "code",
   "execution_count": 86,
   "outputs": [
    {
     "name": "stdout",
     "output_type": "stream",
     "text": [
      "sample batch:  tensor([[6.0000e+00, 2.0000e+02, 9.5000e+01, 3.1550e+03, 1.8200e+01, 7.8000e+01,\n",
      "         0.0000e+00, 0.0000e+00, 1.0000e+00],\n",
      "        [4.0000e+00, 1.0700e+02, 7.2000e+01, 2.2900e+03, 1.7000e+01, 8.0000e+01,\n",
      "         0.0000e+00, 1.0000e+00, 0.0000e+00],\n",
      "        [8.0000e+00, 3.5000e+02, 1.4500e+02, 4.0550e+03, 1.2000e+01, 7.6000e+01,\n",
      "         0.0000e+00, 0.0000e+00, 1.0000e+00],\n",
      "        [8.0000e+00, 3.5000e+02, 1.0500e+02, 3.7250e+03, 1.9000e+01, 8.1000e+01,\n",
      "         0.0000e+00, 0.0000e+00, 1.0000e+00],\n",
      "        [4.0000e+00, 9.8000e+01, 7.9000e+01, 2.2550e+03, 1.7700e+01, 7.6000e+01,\n",
      "         0.0000e+00, 0.0000e+00, 1.0000e+00],\n",
      "        [8.0000e+00, 3.9000e+02, 1.9000e+02, 3.8500e+03, 8.5000e+00, 7.0000e+01,\n",
      "         0.0000e+00, 0.0000e+00, 1.0000e+00],\n",
      "        [4.0000e+00, 8.9000e+01, 7.1000e+01, 1.9250e+03, 1.4000e+01, 7.9000e+01,\n",
      "         1.0000e+00, 0.0000e+00, 0.0000e+00],\n",
      "        [4.0000e+00, 1.5600e+02, 1.0500e+02, 2.8000e+03, 1.4400e+01, 8.0000e+01,\n",
      "         0.0000e+00, 0.0000e+00, 1.0000e+00],\n",
      "        [4.0000e+00, 7.9000e+01, 5.8000e+01, 1.7550e+03, 1.6900e+01, 8.1000e+01,\n",
      "         0.0000e+00, 1.0000e+00, 0.0000e+00],\n",
      "        [4.0000e+00, 9.7000e+01, 7.5000e+01, 2.1550e+03, 1.6400e+01, 7.6000e+01,\n",
      "         0.0000e+00, 1.0000e+00, 0.0000e+00]])\n",
      "batch len:  2\n"
     ]
    }
   ],
   "source": [
    "X =np.array(test_features.values.astype(np.float32))\n",
    "X = torch.Tensor(X)\n",
    "y = np.array(test_labels.values.astype(np.float32))\n",
    "y = torch.Tensor(y)\n",
    "y = torch.reshape(y, (-1,1))\n",
    "test = TensorDataset(X,y)\n",
    "test_dataloader = DataLoader(test, batch_size=batch, shuffle=True)\n",
    "sample = next(iter(test_dataloader))\n",
    "print(\"sample batch: \", sample[0])\n",
    "print(\"batch len: \", len(sample))"
   ],
   "metadata": {
    "collapsed": false,
    "ExecuteTime": {
     "end_time": "2024-02-22T19:13:15.766666Z",
     "start_time": "2024-02-22T19:13:15.759670Z"
    }
   }
  },
  {
   "cell_type": "code",
   "execution_count": 87,
   "outputs": [
    {
     "name": "stdout",
     "output_type": "stream",
     "text": [
      "Shape of X [N, C, H, W]: torch.Size([10, 9])\n",
      "Shape of y: torch.Size([10, 1]) torch.float32\n"
     ]
    }
   ],
   "source": [
    "for X, y in test_dataloader:\n",
    "    print(f\"Shape of X [N, C, H, W]: {X.shape}\")\n",
    "    print(f\"Shape of y: {y.shape} {y.dtype}\")\n",
    "    break"
   ],
   "metadata": {
    "collapsed": false,
    "ExecuteTime": {
     "end_time": "2024-02-22T19:13:16.797009Z",
     "start_time": "2024-02-22T19:13:16.789060Z"
    }
   }
  },
  {
   "cell_type": "code",
   "execution_count": 88,
   "outputs": [],
   "source": [
    "class NNModel(nn.Module):\n",
    "    def __init__(self):\n",
    "        super(NNModel, self).__init__()\n",
    "        self.fc1 = nn.Linear(9,1)\n",
    "\n",
    "\n",
    "    def forward(self, x):\n",
    "        x = self.fc1(x)\n",
    "        return x\n"
   ],
   "metadata": {
    "collapsed": false,
    "ExecuteTime": {
     "end_time": "2024-02-22T19:13:18.950073Z",
     "start_time": "2024-02-22T19:13:18.940452Z"
    }
   }
  },
  {
   "cell_type": "code",
   "execution_count": 89,
   "outputs": [],
   "source": [
    "nnet = NNModel()"
   ],
   "metadata": {
    "collapsed": false,
    "ExecuteTime": {
     "end_time": "2024-02-22T19:13:19.745435Z",
     "start_time": "2024-02-22T19:13:19.735940Z"
    }
   }
  },
  {
   "cell_type": "code",
   "execution_count": 90,
   "outputs": [
    {
     "data": {
      "text/plain": "===================================================================================================================\nLayer (type:depth-idx)                   Input Shape               Output Shape              Param #\n===================================================================================================================\nNNModel                                  [10, 9]                   [10, 1]                   --\n├─Linear: 1-1                            [10, 9]                   [10, 1]                   10\n===================================================================================================================\nTotal params: 10\nTrainable params: 10\nNon-trainable params: 0\nTotal mult-adds (M): 0.00\n===================================================================================================================\nInput size (MB): 0.00\nForward/backward pass size (MB): 0.00\nParams size (MB): 0.00\nEstimated Total Size (MB): 0.00\n==================================================================================================================="
     },
     "execution_count": 90,
     "metadata": {},
     "output_type": "execute_result"
    }
   ],
   "source": [
    "from torchinfo import summary\n",
    "batch = 10\n",
    "summary(nnet, input_size=(batch, 9), device='cpu', col_names=['input_size', 'output_size',\n",
    "                                                              'num_params'])\n"
   ],
   "metadata": {
    "collapsed": false,
    "ExecuteTime": {
     "end_time": "2024-02-22T19:13:20.409599Z",
     "start_time": "2024-02-22T19:13:20.398962Z"
    }
   }
  },
  {
   "cell_type": "code",
   "execution_count": 109,
   "outputs": [],
   "source": [
    "def train(dataloader, model, loss_fn, optimizer, device):\n",
    "    size = len(dataloader.dataset)\n",
    "    print(\"size: \", size)\n",
    "    #model.train()\n",
    "    for batch, (X, y) in enumerate(dataloader):\n",
    "        X, y = X.to(device), y.to(device)\n",
    "        #print(\"X: \" , X)\n",
    "        # Compute prediction error\n",
    "        pred = model(X)\n",
    "        loss = loss_fn(pred, y)\n",
    "\n",
    "        # Backpropagation\n",
    "        loss.backward()\n",
    "        optimizer.step()\n",
    "        optimizer.zero_grad()\n",
    "\n",
    "        if batch % 10 == 0:\n",
    "            loss, current = loss.item(), (batch + 1) * len(X)\n",
    "            print(f\"loss: {loss:>7f}  [{current:>5d}/{size:>5d}]\")"
   ],
   "metadata": {
    "collapsed": false,
    "ExecuteTime": {
     "end_time": "2024-02-22T19:18:21.219202Z",
     "start_time": "2024-02-22T19:18:21.212352Z"
    }
   }
  },
  {
   "cell_type": "code",
   "execution_count": 110,
   "outputs": [],
   "source": [
    "def test(dataloader, model, loss_fn, device):\n",
    "    size = len(dataloader.dataset)\n",
    "    print(\"size: \", size)\n",
    "    num_batches = len(dataloader)\n",
    "    #model.eval()\n",
    "    test_loss, correct = 0, 0\n",
    "    with torch.no_grad():\n",
    "        for X, y in dataloader:\n",
    "            X, y = X.to(device), y.to(device)\n",
    "            pred = model(X)\n",
    "            test_loss += loss_fn(pred, y).item()\n",
    "            correct += (pred.argmax(1) == y).type(torch.float).sum().item()\n",
    "    test_loss /= num_batches\n",
    "    correct /= size\n",
    "    print(f\"Test Error: \\n Accuracy: {(100*correct):>0.1f}%, Avg loss: {test_loss:>8f} \\n\")"
   ],
   "metadata": {
    "collapsed": false,
    "ExecuteTime": {
     "end_time": "2024-02-22T19:18:21.976913Z",
     "start_time": "2024-02-22T19:18:21.970624Z"
    }
   }
  },
  {
   "cell_type": "code",
   "execution_count": 111,
   "outputs": [],
   "source": [
    "import torch.optim as optim\n",
    "\n",
    "criterion = nn.MSELoss()\n",
    "optimizer = optim.SGD(nnet.parameters(), lr=0.03)\n"
   ],
   "metadata": {
    "collapsed": false,
    "ExecuteTime": {
     "end_time": "2024-02-22T19:18:22.892792Z",
     "start_time": "2024-02-22T19:18:22.885683Z"
    }
   }
  },
  {
   "cell_type": "code",
   "execution_count": 113,
   "outputs": [
    {
     "name": "stdout",
     "output_type": "stream",
     "text": [
      "Epoch 1\n",
      "-------------------------------\n",
      "size:  314\n",
      "loss:     nan  [   10/  314]\n",
      "loss:     nan  [  110/  314]\n",
      "loss:     nan  [  210/  314]\n",
      "loss:     nan  [  310/  314]\n",
      "size:  78\n",
      "Test Error: \n",
      " Accuracy: 0.0%, Avg loss:      nan \n",
      "\n",
      "Epoch 2\n",
      "-------------------------------\n",
      "size:  314\n",
      "loss:     nan  [   10/  314]\n",
      "loss:     nan  [  110/  314]\n",
      "loss:     nan  [  210/  314]\n",
      "loss:     nan  [  310/  314]\n",
      "size:  78\n",
      "Test Error: \n",
      " Accuracy: 0.0%, Avg loss:      nan \n",
      "\n",
      "Epoch 3\n",
      "-------------------------------\n",
      "size:  314\n",
      "loss:     nan  [   10/  314]\n",
      "loss:     nan  [  110/  314]\n",
      "loss:     nan  [  210/  314]\n",
      "loss:     nan  [  310/  314]\n",
      "size:  78\n",
      "Test Error: \n",
      " Accuracy: 0.0%, Avg loss:      nan \n",
      "\n",
      "Epoch 4\n",
      "-------------------------------\n",
      "size:  314\n",
      "loss:     nan  [   10/  314]\n",
      "loss:     nan  [  110/  314]\n",
      "loss:     nan  [  210/  314]\n",
      "loss:     nan  [  310/  314]\n",
      "size:  78\n",
      "Test Error: \n",
      " Accuracy: 0.0%, Avg loss:      nan \n",
      "\n",
      "Epoch 5\n",
      "-------------------------------\n",
      "size:  314\n",
      "loss:     nan  [   10/  314]\n",
      "loss:     nan  [  110/  314]\n",
      "loss:     nan  [  210/  314]\n",
      "loss:     nan  [  310/  314]\n",
      "size:  78\n",
      "Test Error: \n",
      " Accuracy: 0.0%, Avg loss:      nan \n",
      "\n",
      "Epoch 6\n",
      "-------------------------------\n",
      "size:  314\n",
      "loss:     nan  [   10/  314]\n",
      "loss:     nan  [  110/  314]\n",
      "loss:     nan  [  210/  314]\n",
      "loss:     nan  [  310/  314]\n",
      "size:  78\n",
      "Test Error: \n",
      " Accuracy: 0.0%, Avg loss:      nan \n",
      "\n",
      "Epoch 7\n",
      "-------------------------------\n",
      "size:  314\n",
      "loss:     nan  [   10/  314]\n",
      "loss:     nan  [  110/  314]\n",
      "loss:     nan  [  210/  314]\n",
      "loss:     nan  [  310/  314]\n",
      "size:  78\n",
      "Test Error: \n",
      " Accuracy: 0.0%, Avg loss:      nan \n",
      "\n",
      "Epoch 8\n",
      "-------------------------------\n",
      "size:  314\n",
      "loss:     nan  [   10/  314]\n",
      "loss:     nan  [  110/  314]\n",
      "loss:     nan  [  210/  314]\n",
      "loss:     nan  [  310/  314]\n",
      "size:  78\n",
      "Test Error: \n",
      " Accuracy: 0.0%, Avg loss:      nan \n",
      "\n",
      "Epoch 9\n",
      "-------------------------------\n",
      "size:  314\n",
      "loss:     nan  [   10/  314]\n",
      "loss:     nan  [  110/  314]\n",
      "loss:     nan  [  210/  314]\n",
      "loss:     nan  [  310/  314]\n",
      "size:  78\n",
      "Test Error: \n",
      " Accuracy: 0.0%, Avg loss:      nan \n",
      "\n",
      "Epoch 10\n",
      "-------------------------------\n",
      "size:  314\n",
      "loss:     nan  [   10/  314]\n",
      "loss:     nan  [  110/  314]\n",
      "loss:     nan  [  210/  314]\n",
      "loss:     nan  [  310/  314]\n",
      "size:  78\n",
      "Test Error: \n",
      " Accuracy: 0.0%, Avg loss:      nan \n",
      "\n",
      "Done!\n"
     ]
    }
   ],
   "source": [
    "device = 'cpu'\n",
    "epochs = 10\n",
    "for t in range(epochs):\n",
    "    print(f\"Epoch {t+1}\\n-------------------------------\")\n",
    "    train(train_dataloader, nnet, criterion, optimizer, device)\n",
    "    test(test_dataloader, nnet, criterion, device)\n",
    "print(\"Done!\")"
   ],
   "metadata": {
    "collapsed": false,
    "ExecuteTime": {
     "end_time": "2024-02-22T19:18:39.331675Z",
     "start_time": "2024-02-22T19:18:39.188647Z"
    }
   }
  },
  {
   "cell_type": "code",
   "execution_count": 18,
   "outputs": [
    {
     "data": {
      "text/plain": "Cylinders            4\nDisplacement     140.0\nHorsepower        88.0\nWeight          2890.0\nAcceleration      17.3\nModel Year          79\nEurope           False\nJapan            False\nUSA               True\nName: 282, dtype: object"
     },
     "execution_count": 18,
     "metadata": {},
     "output_type": "execute_result"
    }
   ],
   "source": [
    "train_labels.iloc[1]\n",
    "train_features.iloc[1]"
   ],
   "metadata": {
    "collapsed": false,
    "ExecuteTime": {
     "end_time": "2024-02-22T18:17:59.871918Z",
     "start_time": "2024-02-22T18:17:59.865954Z"
    }
   }
  },
  {
   "cell_type": "code",
   "execution_count": 24,
   "outputs": [
    {
     "data": {
      "text/plain": "(9,)"
     },
     "execution_count": 24,
     "metadata": {},
     "output_type": "execute_result"
    }
   ],
   "source": [
    "temp = train_labels.to_numpy()\n",
    "temp[1]\n",
    "temp2 = train_features.to_numpy()\n",
    "temp2[1].shape\n",
    "temp2.shape\n",
    "temp2[1].shape"
   ],
   "metadata": {
    "collapsed": false,
    "ExecuteTime": {
     "end_time": "2024-02-22T18:21:45.054111Z",
     "start_time": "2024-02-22T18:21:45.049354Z"
    }
   }
  },
  {
   "cell_type": "markdown",
   "source": [
    "Setup the data loaders\n"
   ],
   "metadata": {
    "collapsed": false
   }
  },
  {
   "cell_type": "code",
   "execution_count": null,
   "outputs": [],
   "source": [
    "class MPGDataSet(Dataset):\n",
    "    def __init__(self, features, labels, feature_transform=None,\n",
    "                 label_transform=None):\n",
    "        self.features = features\n",
    "        self.labels = labels\n",
    "        self.feature_transform = feature_transform\n",
    "        self.label_transform = label_transform\n",
    "\n",
    "    def __len__(self):\n",
    "        return len(self.features)\n",
    "\n",
    "    def __getitem__(self, idx):\n"
   ],
   "metadata": {
    "collapsed": false
   }
  }
 ],
 "metadata": {
  "kernelspec": {
   "display_name": "Python 3",
   "language": "python",
   "name": "python3"
  },
  "language_info": {
   "codemirror_mode": {
    "name": "ipython",
    "version": 2
   },
   "file_extension": ".py",
   "mimetype": "text/x-python",
   "name": "python",
   "nbconvert_exporter": "python",
   "pygments_lexer": "ipython2",
   "version": "2.7.6"
  }
 },
 "nbformat": 4,
 "nbformat_minor": 0
}
