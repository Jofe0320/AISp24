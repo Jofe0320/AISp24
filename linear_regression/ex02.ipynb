{
 "cells": [
  {
   "cell_type": "code",
   "execution_count": 1,
   "metadata": {
    "collapsed": true,
    "ExecuteTime": {
     "end_time": "2024-02-27T19:45:03.099711Z",
     "start_time": "2024-02-27T19:44:58.954944Z"
    }
   },
   "outputs": [
    {
     "name": "stderr",
     "output_type": "stream",
     "text": [
      "/var/folders/0c/y7bd5j0d2t556b_zf587bmsw0000gn/T/ipykernel_64723/4048784357.py:3: DeprecationWarning: \n",
      "Pyarrow will become a required dependency of pandas in the next major release of pandas (pandas 3.0),\n",
      "(to allow more performant data types, such as the Arrow string type, and better interoperability with other libraries)\n",
      "but was not found to be installed on your system.\n",
      "If this would cause problems for you,\n",
      "please provide us feedback at https://github.com/pandas-dev/pandas/issues/54466\n",
      "        \n",
      "  import pandas as pd\n"
     ]
    }
   ],
   "source": [
    "import torch\n",
    "import numpy as np\n",
    "import pandas as pd\n",
    "from torch.utils import data\n",
    "from torch.utils.data import Dataset, TensorDataset, DataLoader\n",
    "from torch import nn\n"
   ]
  },
  {
   "cell_type": "code",
   "execution_count": 2,
   "outputs": [],
   "source": [
    "#torch.set_default_device('mps')"
   ],
   "metadata": {
    "collapsed": false,
    "ExecuteTime": {
     "end_time": "2024-02-24T10:25:33.550824Z",
     "start_time": "2024-02-24T10:25:33.539792Z"
    }
   }
  },
  {
   "cell_type": "code",
   "execution_count": 2,
   "outputs": [
    {
     "name": "stdout",
     "output_type": "stream",
     "text": [
      "tensor([1.], device='mps:0')\n"
     ]
    }
   ],
   "source": [
    "import torch\n",
    "if torch.backends.mps.is_available():\n",
    "    mps_device = torch.device(\"mps\")\n",
    "    x = torch.ones(1, device=mps_device)\n",
    "    print (x)\n",
    "else:\n",
    "    print (\"MPS device not found.\")"
   ],
   "metadata": {
    "collapsed": false,
    "ExecuteTime": {
     "end_time": "2024-02-27T19:46:35.041853Z",
     "start_time": "2024-02-27T19:46:34.372699Z"
    }
   }
  },
  {
   "cell_type": "markdown",
   "source": [
    "The Data set is the AutoMPG Dataset\n"
   ],
   "metadata": {
    "collapsed": false
   }
  },
  {
   "cell_type": "code",
   "execution_count": 10,
   "outputs": [],
   "source": [
    "url = 'http://archive.ics.uci.edu/ml/machine-learning-databases/auto-mpg/auto-mpg.data'\n",
    "column_names = ['MPG', 'Cylinders', 'Displacement', 'Horsepower', 'Weight',\n",
    "                'Acceleration', 'Model Year', 'Origin']\n",
    "\n",
    "raw_dataset = pd.read_csv(url, names=column_names,\n",
    "                          na_values='?', comment='\\t',\n",
    "                          sep=' ', skipinitialspace=True)"
   ],
   "metadata": {
    "collapsed": false,
    "ExecuteTime": {
     "end_time": "2024-02-27T19:54:42.054604Z",
     "start_time": "2024-02-27T19:54:40.719122Z"
    }
   }
  },
  {
   "cell_type": "code",
   "execution_count": 11,
   "outputs": [
    {
     "data": {
      "text/plain": "      MPG  Cylinders  Displacement  Horsepower  Weight  Acceleration  \\\n393  27.0          4         140.0        86.0  2790.0          15.6   \n394  44.0          4          97.0        52.0  2130.0          24.6   \n395  32.0          4         135.0        84.0  2295.0          11.6   \n396  28.0          4         120.0        79.0  2625.0          18.6   \n397  31.0          4         119.0        82.0  2720.0          19.4   \n\n     Model Year  Origin  \n393          82       1  \n394          82       2  \n395          82       1  \n396          82       1  \n397          82       1  ",
      "text/html": "<div>\n<style scoped>\n    .dataframe tbody tr th:only-of-type {\n        vertical-align: middle;\n    }\n\n    .dataframe tbody tr th {\n        vertical-align: top;\n    }\n\n    .dataframe thead th {\n        text-align: right;\n    }\n</style>\n<table border=\"1\" class=\"dataframe\">\n  <thead>\n    <tr style=\"text-align: right;\">\n      <th></th>\n      <th>MPG</th>\n      <th>Cylinders</th>\n      <th>Displacement</th>\n      <th>Horsepower</th>\n      <th>Weight</th>\n      <th>Acceleration</th>\n      <th>Model Year</th>\n      <th>Origin</th>\n    </tr>\n  </thead>\n  <tbody>\n    <tr>\n      <th>393</th>\n      <td>27.0</td>\n      <td>4</td>\n      <td>140.0</td>\n      <td>86.0</td>\n      <td>2790.0</td>\n      <td>15.6</td>\n      <td>82</td>\n      <td>1</td>\n    </tr>\n    <tr>\n      <th>394</th>\n      <td>44.0</td>\n      <td>4</td>\n      <td>97.0</td>\n      <td>52.0</td>\n      <td>2130.0</td>\n      <td>24.6</td>\n      <td>82</td>\n      <td>2</td>\n    </tr>\n    <tr>\n      <th>395</th>\n      <td>32.0</td>\n      <td>4</td>\n      <td>135.0</td>\n      <td>84.0</td>\n      <td>2295.0</td>\n      <td>11.6</td>\n      <td>82</td>\n      <td>1</td>\n    </tr>\n    <tr>\n      <th>396</th>\n      <td>28.0</td>\n      <td>4</td>\n      <td>120.0</td>\n      <td>79.0</td>\n      <td>2625.0</td>\n      <td>18.6</td>\n      <td>82</td>\n      <td>1</td>\n    </tr>\n    <tr>\n      <th>397</th>\n      <td>31.0</td>\n      <td>4</td>\n      <td>119.0</td>\n      <td>82.0</td>\n      <td>2720.0</td>\n      <td>19.4</td>\n      <td>82</td>\n      <td>1</td>\n    </tr>\n  </tbody>\n</table>\n</div>"
     },
     "execution_count": 11,
     "metadata": {},
     "output_type": "execute_result"
    }
   ],
   "source": [
    "dataset = raw_dataset.copy()\n",
    "dataset.tail()"
   ],
   "metadata": {
    "collapsed": false,
    "ExecuteTime": {
     "end_time": "2024-02-27T19:54:43.201297Z",
     "start_time": "2024-02-27T19:54:43.165031Z"
    }
   }
  },
  {
   "cell_type": "markdown",
   "source": [
    "Now procede to clean the data by removing the Nan and fixing other values.\n"
   ],
   "metadata": {
    "collapsed": false
   }
  },
  {
   "cell_type": "code",
   "execution_count": 12,
   "outputs": [
    {
     "data": {
      "text/plain": "MPG             0\nCylinders       0\nDisplacement    0\nHorsepower      6\nWeight          0\nAcceleration    0\nModel Year      0\nOrigin          0\ndtype: int64"
     },
     "execution_count": 12,
     "metadata": {},
     "output_type": "execute_result"
    }
   ],
   "source": [
    "dataset.isna().sum()\n"
   ],
   "metadata": {
    "collapsed": false,
    "ExecuteTime": {
     "end_time": "2024-02-27T19:54:45.197984Z",
     "start_time": "2024-02-27T19:54:45.189392Z"
    }
   }
  },
  {
   "cell_type": "code",
   "execution_count": 13,
   "outputs": [],
   "source": [
    "dataset = dataset.dropna()\n"
   ],
   "metadata": {
    "collapsed": false,
    "ExecuteTime": {
     "end_time": "2024-02-27T19:54:46.706747Z",
     "start_time": "2024-02-27T19:54:46.692511Z"
    }
   }
  },
  {
   "cell_type": "markdown",
   "source": [
    "Change categorical column\n"
   ],
   "metadata": {
    "collapsed": false
   }
  },
  {
   "cell_type": "code",
   "execution_count": 14,
   "outputs": [
    {
     "data": {
      "text/plain": "      MPG  Cylinders  Displacement  Horsepower  Weight  Acceleration  \\\n393  27.0          4         140.0        86.0  2790.0          15.6   \n394  44.0          4          97.0        52.0  2130.0          24.6   \n395  32.0          4         135.0        84.0  2295.0          11.6   \n396  28.0          4         120.0        79.0  2625.0          18.6   \n397  31.0          4         119.0        82.0  2720.0          19.4   \n\n     Model Year  Europe  Japan    USA  \n393          82   False  False   True  \n394          82    True  False  False  \n395          82   False  False   True  \n396          82   False  False   True  \n397          82   False  False   True  ",
      "text/html": "<div>\n<style scoped>\n    .dataframe tbody tr th:only-of-type {\n        vertical-align: middle;\n    }\n\n    .dataframe tbody tr th {\n        vertical-align: top;\n    }\n\n    .dataframe thead th {\n        text-align: right;\n    }\n</style>\n<table border=\"1\" class=\"dataframe\">\n  <thead>\n    <tr style=\"text-align: right;\">\n      <th></th>\n      <th>MPG</th>\n      <th>Cylinders</th>\n      <th>Displacement</th>\n      <th>Horsepower</th>\n      <th>Weight</th>\n      <th>Acceleration</th>\n      <th>Model Year</th>\n      <th>Europe</th>\n      <th>Japan</th>\n      <th>USA</th>\n    </tr>\n  </thead>\n  <tbody>\n    <tr>\n      <th>393</th>\n      <td>27.0</td>\n      <td>4</td>\n      <td>140.0</td>\n      <td>86.0</td>\n      <td>2790.0</td>\n      <td>15.6</td>\n      <td>82</td>\n      <td>False</td>\n      <td>False</td>\n      <td>True</td>\n    </tr>\n    <tr>\n      <th>394</th>\n      <td>44.0</td>\n      <td>4</td>\n      <td>97.0</td>\n      <td>52.0</td>\n      <td>2130.0</td>\n      <td>24.6</td>\n      <td>82</td>\n      <td>True</td>\n      <td>False</td>\n      <td>False</td>\n    </tr>\n    <tr>\n      <th>395</th>\n      <td>32.0</td>\n      <td>4</td>\n      <td>135.0</td>\n      <td>84.0</td>\n      <td>2295.0</td>\n      <td>11.6</td>\n      <td>82</td>\n      <td>False</td>\n      <td>False</td>\n      <td>True</td>\n    </tr>\n    <tr>\n      <th>396</th>\n      <td>28.0</td>\n      <td>4</td>\n      <td>120.0</td>\n      <td>79.0</td>\n      <td>2625.0</td>\n      <td>18.6</td>\n      <td>82</td>\n      <td>False</td>\n      <td>False</td>\n      <td>True</td>\n    </tr>\n    <tr>\n      <th>397</th>\n      <td>31.0</td>\n      <td>4</td>\n      <td>119.0</td>\n      <td>82.0</td>\n      <td>2720.0</td>\n      <td>19.4</td>\n      <td>82</td>\n      <td>False</td>\n      <td>False</td>\n      <td>True</td>\n    </tr>\n  </tbody>\n</table>\n</div>"
     },
     "execution_count": 14,
     "metadata": {},
     "output_type": "execute_result"
    }
   ],
   "source": [
    "dataset['Origin'] = dataset['Origin'].map({1: 'USA', 2: 'Europe', 3: 'Japan'})\n",
    "dataset = pd.get_dummies(dataset, columns=['Origin'], prefix='', prefix_sep='')\n",
    "dataset.tail()"
   ],
   "metadata": {
    "collapsed": false,
    "ExecuteTime": {
     "end_time": "2024-02-27T19:54:48.705520Z",
     "start_time": "2024-02-27T19:54:48.668906Z"
    }
   }
  },
  {
   "cell_type": "code",
   "execution_count": 15,
   "outputs": [
    {
     "name": "stdout",
     "output_type": "stream",
     "text": [
      "shape of train_dataset:  (314, 10)\n",
      "shape of test_dataset:  (78, 10)\n"
     ]
    }
   ],
   "source": [
    "train_dataset = dataset.sample(frac=0.8, random_state=0)\n",
    "test_dataset = dataset.drop(train_dataset.index)\n",
    "print(\"shape of train_dataset: \", train_dataset.shape)\n",
    "print(\"shape of test_dataset: \", test_dataset.shape)\n"
   ],
   "metadata": {
    "collapsed": false,
    "ExecuteTime": {
     "end_time": "2024-02-27T19:54:51.874067Z",
     "start_time": "2024-02-27T19:54:51.860481Z"
    }
   }
  },
  {
   "cell_type": "code",
   "execution_count": 16,
   "outputs": [
    {
     "name": "stdout",
     "output_type": "stream",
     "text": [
      "shape of train_features:  (314, 9)\n",
      "shape of test_features:  (78, 9)\n",
      "shape of train_labels:  (314,)\n",
      "shape of test_labels:  (78,)\n"
     ]
    }
   ],
   "source": [
    "train_features = train_dataset.copy()\n",
    "test_features = test_dataset.copy()\n",
    "\n",
    "train_labels = train_features.pop('MPG')\n",
    "test_labels = test_features.pop('MPG')\n",
    "print(\"shape of train_features: \", train_features.shape)\n",
    "print(\"shape of test_features: \", test_features.shape)\n",
    "print(\"shape of train_labels: \", train_labels.shape)\n",
    "print(\"shape of test_labels: \", test_labels.shape)"
   ],
   "metadata": {
    "collapsed": false,
    "ExecuteTime": {
     "end_time": "2024-02-27T19:54:55.589303Z",
     "start_time": "2024-02-27T19:54:55.580689Z"
    }
   }
  },
  {
   "cell_type": "code",
   "execution_count": 10,
   "outputs": [],
   "source": [],
   "metadata": {
    "collapsed": false,
    "ExecuteTime": {
     "end_time": "2024-02-24T10:25:46.783426Z",
     "start_time": "2024-02-24T10:25:46.773527Z"
    }
   }
  },
  {
   "cell_type": "code",
   "execution_count": 18,
   "outputs": [
    {
     "name": "stdout",
     "output_type": "stream",
     "text": [
      "sample batch:  [tensor([[5.0000e+00, 1.8300e+02, 7.7000e+01, 3.5300e+03, 2.0100e+01, 7.9000e+01,\n",
      "         1.0000e+00, 0.0000e+00, 0.0000e+00],\n",
      "        [6.0000e+00, 2.5000e+02, 1.0500e+02, 3.8970e+03, 1.8500e+01, 7.5000e+01,\n",
      "         0.0000e+00, 0.0000e+00, 1.0000e+00],\n",
      "        [6.0000e+00, 2.5000e+02, 7.8000e+01, 3.5740e+03, 2.1000e+01, 7.6000e+01,\n",
      "         0.0000e+00, 0.0000e+00, 1.0000e+00],\n",
      "        [8.0000e+00, 3.1800e+02, 1.5000e+02, 4.4980e+03, 1.4500e+01, 7.5000e+01,\n",
      "         0.0000e+00, 0.0000e+00, 1.0000e+00],\n",
      "        [4.0000e+00, 1.4000e+02, 8.8000e+01, 2.8700e+03, 1.8100e+01, 8.0000e+01,\n",
      "         0.0000e+00, 0.0000e+00, 1.0000e+00],\n",
      "        [4.0000e+00, 9.7000e+01, 7.8000e+01, 2.1880e+03, 1.5800e+01, 8.0000e+01,\n",
      "         1.0000e+00, 0.0000e+00, 0.0000e+00],\n",
      "        [4.0000e+00, 7.9000e+01, 7.0000e+01, 2.0740e+03, 1.9500e+01, 7.1000e+01,\n",
      "         1.0000e+00, 0.0000e+00, 0.0000e+00],\n",
      "        [6.0000e+00, 1.7300e+02, 1.1500e+02, 2.5950e+03, 1.1300e+01, 7.9000e+01,\n",
      "         0.0000e+00, 0.0000e+00, 1.0000e+00],\n",
      "        [4.0000e+00, 1.3500e+02, 8.4000e+01, 2.4900e+03, 1.5700e+01, 8.1000e+01,\n",
      "         0.0000e+00, 0.0000e+00, 1.0000e+00],\n",
      "        [4.0000e+00, 8.8000e+01, 7.6000e+01, 2.0650e+03, 1.4500e+01, 7.1000e+01,\n",
      "         1.0000e+00, 0.0000e+00, 0.0000e+00]]), tensor([[25.4000],\n",
      "        [16.0000],\n",
      "        [18.0000],\n",
      "        [16.0000],\n",
      "        [26.4000],\n",
      "        [34.3000],\n",
      "        [30.0000],\n",
      "        [28.8000],\n",
      "        [27.2000],\n",
      "        [30.0000]])]\n",
      "batch len:  2\n"
     ]
    }
   ],
   "source": [
    "batch = 10\n",
    "X =np.array(train_features.values.astype(np.float32))\n",
    "X = torch.Tensor(X)\n",
    "y = np.array(train_labels.values.astype(np.float32))\n",
    "y = torch.Tensor(y)\n",
    "y = torch.reshape(y, (-1,1))\n",
    "train = TensorDataset(X,y)\n",
    "train_dataloader = DataLoader(train, batch_size=batch, shuffle=True)\n",
    "sample = next(iter(train_dataloader))\n",
    "print(\"sample batch: \", sample)\n",
    "print(\"batch len: \", len(sample))"
   ],
   "metadata": {
    "collapsed": false,
    "ExecuteTime": {
     "end_time": "2024-02-27T19:58:50.083285Z",
     "start_time": "2024-02-27T19:58:50.071418Z"
    }
   }
  },
  {
   "cell_type": "code",
   "execution_count": 20,
   "outputs": [
    {
     "name": "stdout",
     "output_type": "stream",
     "text": [
      "Shape of X [B, F]: torch.Size([10, 9])\n",
      "Shape of y [B, L]: torch.Size([10, 1]) torch.float32\n"
     ]
    }
   ],
   "source": [
    "for X, y in train_dataloader:\n",
    "    print(f\"Shape of X [B, F]: {X.shape}\")\n",
    "    print(f\"Shape of y [B, L]: {y.shape} {y.dtype}\")\n",
    "    break"
   ],
   "metadata": {
    "collapsed": false,
    "ExecuteTime": {
     "end_time": "2024-02-27T19:59:29.870807Z",
     "start_time": "2024-02-27T19:59:29.860343Z"
    }
   }
  },
  {
   "cell_type": "code",
   "execution_count": 21,
   "outputs": [
    {
     "name": "stdout",
     "output_type": "stream",
     "text": [
      "sample batch:  tensor([[4.0000e+00, 1.0500e+02, 7.4000e+01, 2.1900e+03, 1.4200e+01, 8.1000e+01,\n",
      "         1.0000e+00, 0.0000e+00, 0.0000e+00],\n",
      "        [4.0000e+00, 9.7000e+01, 7.5000e+01, 2.1710e+03, 1.6000e+01, 7.5000e+01,\n",
      "         0.0000e+00, 1.0000e+00, 0.0000e+00],\n",
      "        [4.0000e+00, 1.2200e+02, 8.0000e+01, 2.4510e+03, 1.6500e+01, 7.4000e+01,\n",
      "         0.0000e+00, 0.0000e+00, 1.0000e+00],\n",
      "        [8.0000e+00, 3.5000e+02, 1.0500e+02, 3.7250e+03, 1.9000e+01, 8.1000e+01,\n",
      "         0.0000e+00, 0.0000e+00, 1.0000e+00],\n",
      "        [4.0000e+00, 9.8000e+01, 6.6000e+01, 1.8000e+03, 1.4400e+01, 7.8000e+01,\n",
      "         0.0000e+00, 0.0000e+00, 1.0000e+00],\n",
      "        [6.0000e+00, 2.5000e+02, 8.8000e+01, 3.0210e+03, 1.6500e+01, 7.3000e+01,\n",
      "         0.0000e+00, 0.0000e+00, 1.0000e+00],\n",
      "        [6.0000e+00, 1.6300e+02, 1.2500e+02, 3.1400e+03, 1.3600e+01, 7.8000e+01,\n",
      "         1.0000e+00, 0.0000e+00, 0.0000e+00],\n",
      "        [4.0000e+00, 1.5100e+02, 8.4000e+01, 2.6350e+03, 1.6400e+01, 8.1000e+01,\n",
      "         0.0000e+00, 0.0000e+00, 1.0000e+00],\n",
      "        [8.0000e+00, 2.6200e+02, 1.1000e+02, 3.2210e+03, 1.3500e+01, 7.5000e+01,\n",
      "         0.0000e+00, 0.0000e+00, 1.0000e+00],\n",
      "        [8.0000e+00, 3.5000e+02, 1.7500e+02, 4.1000e+03, 1.3000e+01, 7.3000e+01,\n",
      "         0.0000e+00, 0.0000e+00, 1.0000e+00]])\n",
      "batch len:  2\n"
     ]
    }
   ],
   "source": [
    "X =np.array(test_features.values.astype(np.float32))\n",
    "X = torch.Tensor(X)\n",
    "y = np.array(test_labels.values.astype(np.float32))\n",
    "y = torch.Tensor(y)\n",
    "y = torch.reshape(y, (-1,1))\n",
    "test = TensorDataset(X,y)\n",
    "test_dataloader = DataLoader(test, batch_size=batch, shuffle=True)\n",
    "sample = next(iter(test_dataloader))\n",
    "print(\"sample batch: \", sample[0])\n",
    "print(\"batch len: \", len(sample))"
   ],
   "metadata": {
    "collapsed": false,
    "ExecuteTime": {
     "end_time": "2024-02-27T19:59:31.487831Z",
     "start_time": "2024-02-27T19:59:31.478672Z"
    }
   }
  },
  {
   "cell_type": "code",
   "execution_count": 23,
   "outputs": [
    {
     "name": "stdout",
     "output_type": "stream",
     "text": [
      "Shape of X [B, F]: torch.Size([10, 9])\n",
      "Shape of y [B, L]: torch.Size([10, 1]) torch.float32\n"
     ]
    }
   ],
   "source": [
    "for X, y in test_dataloader:\n",
    "    print(f\"Shape of X [B, F]: {X.shape}\")\n",
    "    print(f\"Shape of y [B, L]: {y.shape} {y.dtype}\")\n",
    "    break"
   ],
   "metadata": {
    "collapsed": false,
    "ExecuteTime": {
     "end_time": "2024-02-27T20:05:51.239847Z",
     "start_time": "2024-02-27T20:05:51.229420Z"
    }
   }
  },
  {
   "cell_type": "code",
   "execution_count": 24,
   "outputs": [],
   "source": [
    "class NNModel(nn.Module):\n",
    "    def __init__(self):\n",
    "        #super(NNModel, self).__init__()\n",
    "        super().__init__()\n",
    "        self.norm = nn.BatchNorm1d(9)\n",
    "        self.fc1 = nn.Linear(9,1)\n",
    "\n",
    "\n",
    "    def forward(self, x):\n",
    "        t = self.norm(x)\n",
    "        t = self.fc1(t)\n",
    "        return t\n"
   ],
   "metadata": {
    "collapsed": false,
    "ExecuteTime": {
     "end_time": "2024-02-27T20:05:52.034875Z",
     "start_time": "2024-02-27T20:05:52.023078Z"
    }
   }
  },
  {
   "cell_type": "code",
   "execution_count": 25,
   "outputs": [],
   "source": [
    "class NNModel2(nn.Module):\n",
    "    def __init__(self):\n",
    "        #super(NNModel, self).__init__()\n",
    "        super().__init__()\n",
    "        self.norm = nn.BatchNorm1d(9)\n",
    "        self.fc1 = nn.Linear(9,18)\n",
    "        self.fc2 = nn.Linear(18,9)\n",
    "        self.fc3 = nn.Linear(9,1)\n",
    "        self.relu = nn.ReLU()\n",
    "\n",
    "\n",
    "    def forward(self, x):\n",
    "        t = self.norm(x)\n",
    "        t = self.fc1(t)\n",
    "        t = self.relu(t)\n",
    "        t = self.fc2(t)\n",
    "        t = self.relu(t)\n",
    "        t = self.fc3(t)\n",
    "        return t"
   ],
   "metadata": {
    "collapsed": false,
    "ExecuteTime": {
     "end_time": "2024-02-27T20:05:52.852171Z",
     "start_time": "2024-02-27T20:05:52.837268Z"
    }
   }
  },
  {
   "cell_type": "code",
   "execution_count": 26,
   "outputs": [],
   "source": [
    "class NNModel3(nn.Module):\n",
    "    def __init__(self):\n",
    "        #super(NNModel, self).__init__()\n",
    "        super().__init__()\n",
    "        self.norm = nn.BatchNorm1d(9)\n",
    "        self.fc1 = nn.Linear(9,18)\n",
    "        self.fc2 = nn.Linear(18,18)\n",
    "        self.fc3 = nn.Linear(18,9)\n",
    "        self.fc4 = nn.Linear(9,1)\n",
    "        self.relu = nn.ReLU()\n",
    "\n",
    "\n",
    "    def forward(self, x):\n",
    "        t = self.norm(x)\n",
    "        t = self.fc1(t)\n",
    "        t = self.relu(t)\n",
    "        t = self.fc2(t)\n",
    "        t = self.relu(t)\n",
    "        t = self.fc3(t)\n",
    "        t = self.relu(t)\n",
    "        t = self.fc4(t)\n",
    "        return t"
   ],
   "metadata": {
    "collapsed": false,
    "ExecuteTime": {
     "end_time": "2024-02-27T20:05:53.658069Z",
     "start_time": "2024-02-27T20:05:53.645936Z"
    }
   }
  },
  {
   "cell_type": "code",
   "execution_count": 51,
   "outputs": [],
   "source": [
    "#nnet = NNModel()\n",
    "#nnet = NNModel2()\n",
    "nnet = NNModel3()"
   ],
   "metadata": {
    "collapsed": false,
    "ExecuteTime": {
     "end_time": "2024-02-27T20:16:23.612438Z",
     "start_time": "2024-02-27T20:16:23.598414Z"
    }
   }
  },
  {
   "cell_type": "code",
   "execution_count": 52,
   "outputs": [
    {
     "data": {
      "text/plain": "===================================================================================================================\nLayer (type:depth-idx)                   Input Shape               Output Shape              Param #\n===================================================================================================================\nNNModel3                                 [10, 9]                   [10, 1]                   --\n├─BatchNorm1d: 1-1                       [10, 9]                   [10, 9]                   18\n├─Linear: 1-2                            [10, 9]                   [10, 18]                  180\n├─ReLU: 1-3                              [10, 18]                  [10, 18]                  --\n├─Linear: 1-4                            [10, 18]                  [10, 18]                  342\n├─ReLU: 1-5                              [10, 18]                  [10, 18]                  --\n├─Linear: 1-6                            [10, 18]                  [10, 9]                   171\n├─ReLU: 1-7                              [10, 9]                   [10, 9]                   --\n├─Linear: 1-8                            [10, 9]                   [10, 1]                   10\n===================================================================================================================\nTotal params: 721\nTrainable params: 721\nNon-trainable params: 0\nTotal mult-adds (M): 0.01\n===================================================================================================================\nInput size (MB): 0.00\nForward/backward pass size (MB): 0.00\nParams size (MB): 0.00\nEstimated Total Size (MB): 0.01\n==================================================================================================================="
     },
     "execution_count": 52,
     "metadata": {},
     "output_type": "execute_result"
    }
   ],
   "source": [
    "from torchinfo import summary\n",
    "batch = 10\n",
    "summary(nnet, input_size=(batch, 9), device='cpu', col_names=['input_size', 'output_size',\n",
    "                                                              'num_params'])\n"
   ],
   "metadata": {
    "collapsed": false,
    "ExecuteTime": {
     "end_time": "2024-02-27T20:16:26.069093Z",
     "start_time": "2024-02-27T20:16:26.054817Z"
    }
   }
  },
  {
   "cell_type": "code",
   "execution_count": 53,
   "outputs": [],
   "source": [
    "def train(dataloader, model, loss_fn, optimizer, device):\n",
    "    size = len(dataloader.dataset)\n",
    "    print(\"size: \", size)\n",
    "    model.train()\n",
    "    for batch, (X, y) in enumerate(dataloader):\n",
    "        X, y = X.to(device), y.to(device)\n",
    "        #print(\"X: \" , X)\n",
    "        # Compute prediction error\n",
    "        pred = model(X)\n",
    "        loss = loss_fn(pred, y)\n",
    "\n",
    "        # Backpropagation\n",
    "        loss.backward()\n",
    "        optimizer.step()\n",
    "        optimizer.zero_grad()\n",
    "\n",
    "\n",
    "        if batch % 10 == 0:\n",
    "            loss, current = loss.item(), (batch + 1) * len(X)\n",
    "            print(f\"Train loss: {loss:>7f}  [{current:>5d}/{size:>5d}]\")"
   ],
   "metadata": {
    "collapsed": false,
    "ExecuteTime": {
     "end_time": "2024-02-27T20:16:27.355330Z",
     "start_time": "2024-02-27T20:16:27.344507Z"
    }
   }
  },
  {
   "cell_type": "code",
   "execution_count": 54,
   "outputs": [],
   "source": [
    "def test(dataloader, model, loss_fn, device):\n",
    "    size = len(dataloader.dataset)\n",
    "    print(\"size: \", size)\n",
    "    num_batches = len(dataloader)\n",
    "    model.eval()\n",
    "    test_loss, correct = 0, 0\n",
    "    with torch.no_grad():\n",
    "        for X, y in dataloader:\n",
    "            X, y = X.to(device), y.to(device)\n",
    "            pred = model(X)\n",
    "            test_loss += loss_fn(pred, y).item()\n",
    "            correct += (pred.argmax(1) == y).type(torch.float).sum().item()\n",
    "    test_loss /= num_batches\n",
    "    correct /= size\n",
    "    print(f\"Test Error: \\n Accuracy: {(100*correct):>0.1f}%, Avg loss: {test_loss:>8f} \\n\")"
   ],
   "metadata": {
    "collapsed": false,
    "ExecuteTime": {
     "end_time": "2024-02-27T20:16:28.108097Z",
     "start_time": "2024-02-27T20:16:28.096099Z"
    }
   }
  },
  {
   "cell_type": "code",
   "execution_count": 55,
   "outputs": [],
   "source": [
    "import torch.optim as optim\n",
    "\n",
    "criterion = nn.MSELoss()\n",
    "optimizer = optim.Adam(nnet.parameters(), lr=0.001)\n"
   ],
   "metadata": {
    "collapsed": false,
    "ExecuteTime": {
     "end_time": "2024-02-27T20:16:34.601899Z",
     "start_time": "2024-02-27T20:16:34.589916Z"
    }
   }
  },
  {
   "cell_type": "code",
   "execution_count": 56,
   "outputs": [
    {
     "name": "stdout",
     "output_type": "stream",
     "text": [
      "Epoch 1\n",
      "-------------------------------\n",
      "size:  314\n",
      "Train loss: 487.735504  [   10/  314]\n",
      "Train loss: 646.967712  [  110/  314]\n",
      "Train loss: 733.222412  [  210/  314]\n",
      "Train loss: 559.697937  [  310/  314]\n",
      "size:  78\n",
      "Test Error: \n",
      " Accuracy: 0.0%, Avg loss: 626.324604 \n",
      "\n",
      "Epoch 2\n",
      "-------------------------------\n",
      "size:  314\n",
      "Train loss: 508.192291  [   10/  314]\n",
      "Train loss: 610.192200  [  110/  314]\n",
      "Train loss: 581.190735  [  210/  314]\n",
      "Train loss: 532.875916  [  310/  314]\n",
      "size:  78\n",
      "Test Error: \n",
      " Accuracy: 0.0%, Avg loss: 598.704868 \n",
      "\n",
      "Epoch 3\n",
      "-------------------------------\n",
      "size:  314\n",
      "Train loss: 561.023132  [   10/  314]\n",
      "Train loss: 499.153046  [  110/  314]\n",
      "Train loss: 414.193695  [  210/  314]\n",
      "Train loss: 657.088989  [  310/  314]\n",
      "size:  78\n",
      "Test Error: \n",
      " Accuracy: 0.0%, Avg loss: 538.398800 \n",
      "\n",
      "Epoch 4\n",
      "-------------------------------\n",
      "size:  314\n",
      "Train loss: 417.561859  [   10/  314]\n",
      "Train loss: 556.237976  [  110/  314]\n",
      "Train loss: 535.646851  [  210/  314]\n",
      "Train loss: 383.425629  [  310/  314]\n",
      "size:  78\n",
      "Test Error: \n",
      " Accuracy: 0.0%, Avg loss: 372.051495 \n",
      "\n",
      "Epoch 5\n",
      "-------------------------------\n",
      "size:  314\n",
      "Train loss: 249.986725  [   10/  314]\n",
      "Train loss: 374.629059  [  110/  314]\n",
      "Train loss: 215.796616  [  210/  314]\n",
      "Train loss: 82.421219  [  310/  314]\n",
      "size:  78\n",
      "Test Error: \n",
      " Accuracy: 0.0%, Avg loss: 117.345227 \n",
      "\n",
      "Epoch 6\n",
      "-------------------------------\n",
      "size:  314\n",
      "Train loss: 150.201508  [   10/  314]\n",
      "Train loss: 111.680984  [  110/  314]\n",
      "Train loss: 197.888458  [  210/  314]\n",
      "Train loss: 27.267262  [  310/  314]\n",
      "size:  78\n",
      "Test Error: \n",
      " Accuracy: 0.0%, Avg loss: 40.484709 \n",
      "\n",
      "Epoch 7\n",
      "-------------------------------\n",
      "size:  314\n",
      "Train loss: 59.600842  [   10/  314]\n",
      "Train loss: 41.463890  [  110/  314]\n",
      "Train loss: 19.275488  [  210/  314]\n",
      "Train loss: 53.865612  [  310/  314]\n",
      "size:  78\n",
      "Test Error: \n",
      " Accuracy: 0.0%, Avg loss: 26.254689 \n",
      "\n",
      "Epoch 8\n",
      "-------------------------------\n",
      "size:  314\n",
      "Train loss: 9.062584  [   10/  314]\n",
      "Train loss: 19.021986  [  110/  314]\n",
      "Train loss: 34.104000  [  210/  314]\n",
      "Train loss: 47.697338  [  310/  314]\n",
      "size:  78\n",
      "Test Error: \n",
      " Accuracy: 0.0%, Avg loss: 17.885121 \n",
      "\n",
      "Epoch 9\n",
      "-------------------------------\n",
      "size:  314\n",
      "Train loss: 27.987696  [   10/  314]\n",
      "Train loss: 49.674801  [  110/  314]\n",
      "Train loss: 14.430747  [  210/  314]\n",
      "Train loss: 17.636066  [  310/  314]\n",
      "size:  78\n",
      "Test Error: \n",
      " Accuracy: 0.0%, Avg loss: 13.319925 \n",
      "\n",
      "Epoch 10\n",
      "-------------------------------\n",
      "size:  314\n",
      "Train loss: 18.487751  [   10/  314]\n",
      "Train loss: 46.277645  [  110/  314]\n",
      "Train loss: 36.862774  [  210/  314]\n",
      "Train loss: 26.228491  [  310/  314]\n",
      "size:  78\n",
      "Test Error: \n",
      " Accuracy: 0.0%, Avg loss: 13.551716 \n",
      "\n",
      "Epoch 11\n",
      "-------------------------------\n",
      "size:  314\n",
      "Train loss: 41.492901  [   10/  314]\n",
      "Train loss: 33.781532  [  110/  314]\n",
      "Train loss: 32.031506  [  210/  314]\n",
      "Train loss: 49.850502  [  310/  314]\n",
      "size:  78\n",
      "Test Error: \n",
      " Accuracy: 0.0%, Avg loss: 11.441183 \n",
      "\n",
      "Epoch 12\n",
      "-------------------------------\n",
      "size:  314\n",
      "Train loss: 16.420298  [   10/  314]\n",
      "Train loss: 38.243481  [  110/  314]\n",
      "Train loss: 11.113955  [  210/  314]\n",
      "Train loss: 11.663025  [  310/  314]\n",
      "size:  78\n",
      "Test Error: \n",
      " Accuracy: 0.0%, Avg loss: 10.526277 \n",
      "\n",
      "Epoch 13\n",
      "-------------------------------\n",
      "size:  314\n",
      "Train loss: 13.295280  [   10/  314]\n",
      "Train loss: 12.558009  [  110/  314]\n",
      "Train loss: 43.864258  [  210/  314]\n",
      "Train loss: 21.697735  [  310/  314]\n",
      "size:  78\n",
      "Test Error: \n",
      " Accuracy: 0.0%, Avg loss: 10.213281 \n",
      "\n",
      "Epoch 14\n",
      "-------------------------------\n",
      "size:  314\n",
      "Train loss: 8.839232  [   10/  314]\n",
      "Train loss: 13.158254  [  110/  314]\n",
      "Train loss: 17.996820  [  210/  314]\n",
      "Train loss: 18.736578  [  310/  314]\n",
      "size:  78\n",
      "Test Error: \n",
      " Accuracy: 0.0%, Avg loss: 12.029265 \n",
      "\n",
      "Epoch 15\n",
      "-------------------------------\n",
      "size:  314\n",
      "Train loss: 17.338076  [   10/  314]\n",
      "Train loss: 40.835201  [  110/  314]\n",
      "Train loss: 14.225392  [  210/  314]\n",
      "Train loss: 31.756708  [  310/  314]\n",
      "size:  78\n",
      "Test Error: \n",
      " Accuracy: 0.0%, Avg loss: 10.638626 \n",
      "\n",
      "Epoch 16\n",
      "-------------------------------\n",
      "size:  314\n",
      "Train loss: 57.622292  [   10/  314]\n",
      "Train loss: 28.379669  [  110/  314]\n",
      "Train loss: 21.390394  [  210/  314]\n",
      "Train loss: 11.814251  [  310/  314]\n",
      "size:  78\n",
      "Test Error: \n",
      " Accuracy: 0.0%, Avg loss: 9.917795 \n",
      "\n",
      "Epoch 17\n",
      "-------------------------------\n",
      "size:  314\n",
      "Train loss: 5.349488  [   10/  314]\n",
      "Train loss: 8.521919  [  110/  314]\n",
      "Train loss: 49.377098  [  210/  314]\n",
      "Train loss: 10.824445  [  310/  314]\n",
      "size:  78\n",
      "Test Error: \n",
      " Accuracy: 0.0%, Avg loss: 11.906882 \n",
      "\n",
      "Epoch 18\n",
      "-------------------------------\n",
      "size:  314\n",
      "Train loss: 7.299074  [   10/  314]\n",
      "Train loss: 95.024559  [  110/  314]\n",
      "Train loss: 6.648664  [  210/  314]\n",
      "Train loss: 32.320492  [  310/  314]\n",
      "size:  78\n",
      "Test Error: \n",
      " Accuracy: 0.0%, Avg loss: 10.319742 \n",
      "\n",
      "Epoch 19\n",
      "-------------------------------\n",
      "size:  314\n",
      "Train loss: 10.766573  [   10/  314]\n",
      "Train loss: 16.290852  [  110/  314]\n",
      "Train loss: 5.305386  [  210/  314]\n",
      "Train loss: 12.236514  [  310/  314]\n",
      "size:  78\n",
      "Test Error: \n",
      " Accuracy: 0.0%, Avg loss: 9.881370 \n",
      "\n",
      "Epoch 20\n",
      "-------------------------------\n",
      "size:  314\n",
      "Train loss: 43.964355  [   10/  314]\n",
      "Train loss: 26.101477  [  110/  314]\n",
      "Train loss: 9.787719  [  210/  314]\n",
      "Train loss: 16.302725  [  310/  314]\n",
      "size:  78\n",
      "Test Error: \n",
      " Accuracy: 0.0%, Avg loss: 8.975648 \n",
      "\n",
      "Epoch 21\n",
      "-------------------------------\n",
      "size:  314\n",
      "Train loss: 14.366068  [   10/  314]\n",
      "Train loss: 19.691483  [  110/  314]\n",
      "Train loss: 25.920120  [  210/  314]\n",
      "Train loss: 20.682299  [  310/  314]\n",
      "size:  78\n",
      "Test Error: \n",
      " Accuracy: 0.0%, Avg loss: 10.137602 \n",
      "\n",
      "Epoch 22\n",
      "-------------------------------\n",
      "size:  314\n",
      "Train loss: 4.302284  [   10/  314]\n",
      "Train loss: 7.282623  [  110/  314]\n",
      "Train loss: 19.969620  [  210/  314]\n",
      "Train loss: 13.630240  [  310/  314]\n",
      "size:  78\n",
      "Test Error: \n",
      " Accuracy: 0.0%, Avg loss: 10.623920 \n",
      "\n",
      "Epoch 23\n",
      "-------------------------------\n",
      "size:  314\n",
      "Train loss: 47.317871  [   10/  314]\n",
      "Train loss: 8.130661  [  110/  314]\n",
      "Train loss: 28.431152  [  210/  314]\n",
      "Train loss: 24.594681  [  310/  314]\n",
      "size:  78\n",
      "Test Error: \n",
      " Accuracy: 0.0%, Avg loss: 9.072680 \n",
      "\n",
      "Epoch 24\n",
      "-------------------------------\n",
      "size:  314\n",
      "Train loss: 16.600525  [   10/  314]\n",
      "Train loss: 8.568353  [  110/  314]\n",
      "Train loss: 30.312174  [  210/  314]\n",
      "Train loss: 10.321138  [  310/  314]\n",
      "size:  78\n",
      "Test Error: \n",
      " Accuracy: 0.0%, Avg loss: 8.940356 \n",
      "\n",
      "Epoch 25\n",
      "-------------------------------\n",
      "size:  314\n",
      "Train loss: 10.284808  [   10/  314]\n",
      "Train loss: 9.818639  [  110/  314]\n",
      "Train loss: 12.711615  [  210/  314]\n",
      "Train loss: 3.689729  [  310/  314]\n",
      "size:  78\n",
      "Test Error: \n",
      " Accuracy: 0.0%, Avg loss: 10.127834 \n",
      "\n",
      "Epoch 26\n",
      "-------------------------------\n",
      "size:  314\n",
      "Train loss: 24.405079  [   10/  314]\n",
      "Train loss: 15.311838  [  110/  314]\n",
      "Train loss: 75.507523  [  210/  314]\n",
      "Train loss: 13.827491  [  310/  314]\n",
      "size:  78\n",
      "Test Error: \n",
      " Accuracy: 0.0%, Avg loss: 9.103977 \n",
      "\n",
      "Epoch 27\n",
      "-------------------------------\n",
      "size:  314\n",
      "Train loss: 42.300907  [   10/  314]\n",
      "Train loss: 11.648677  [  110/  314]\n",
      "Train loss: 9.981165  [  210/  314]\n",
      "Train loss: 19.664665  [  310/  314]\n",
      "size:  78\n",
      "Test Error: \n",
      " Accuracy: 0.0%, Avg loss: 9.422623 \n",
      "\n",
      "Epoch 28\n",
      "-------------------------------\n",
      "size:  314\n",
      "Train loss: 6.863621  [   10/  314]\n",
      "Train loss: 10.162210  [  110/  314]\n",
      "Train loss: 16.010021  [  210/  314]\n",
      "Train loss: 11.641097  [  310/  314]\n",
      "size:  78\n",
      "Test Error: \n",
      " Accuracy: 0.0%, Avg loss: 9.374297 \n",
      "\n",
      "Epoch 29\n",
      "-------------------------------\n",
      "size:  314\n",
      "Train loss: 7.634229  [   10/  314]\n",
      "Train loss: 37.725105  [  110/  314]\n",
      "Train loss: 5.408292  [  210/  314]\n",
      "Train loss: 22.792984  [  310/  314]\n",
      "size:  78\n",
      "Test Error: \n",
      " Accuracy: 0.0%, Avg loss: 8.454658 \n",
      "\n",
      "Epoch 30\n",
      "-------------------------------\n",
      "size:  314\n",
      "Train loss: 4.581921  [   10/  314]\n",
      "Train loss: 22.282377  [  110/  314]\n",
      "Train loss: 13.614005  [  210/  314]\n",
      "Train loss: 6.029378  [  310/  314]\n",
      "size:  78\n",
      "Test Error: \n",
      " Accuracy: 0.0%, Avg loss: 8.444959 \n",
      "\n",
      "Epoch 31\n",
      "-------------------------------\n",
      "size:  314\n",
      "Train loss: 16.058182  [   10/  314]\n",
      "Train loss: 28.079905  [  110/  314]\n",
      "Train loss: 10.011151  [  210/  314]\n",
      "Train loss: 6.303026  [  310/  314]\n",
      "size:  78\n",
      "Test Error: \n",
      " Accuracy: 0.0%, Avg loss: 8.945045 \n",
      "\n",
      "Epoch 32\n",
      "-------------------------------\n",
      "size:  314\n",
      "Train loss: 18.733482  [   10/  314]\n",
      "Train loss: 28.708454  [  110/  314]\n",
      "Train loss: 24.291409  [  210/  314]\n",
      "Train loss: 7.269567  [  310/  314]\n",
      "size:  78\n",
      "Test Error: \n",
      " Accuracy: 0.0%, Avg loss: 8.469128 \n",
      "\n",
      "Epoch 33\n",
      "-------------------------------\n",
      "size:  314\n",
      "Train loss: 20.466970  [   10/  314]\n",
      "Train loss: 17.646139  [  110/  314]\n",
      "Train loss: 18.174723  [  210/  314]\n",
      "Train loss: 15.331962  [  310/  314]\n",
      "size:  78\n",
      "Test Error: \n",
      " Accuracy: 0.0%, Avg loss: 9.583131 \n",
      "\n",
      "Epoch 34\n",
      "-------------------------------\n",
      "size:  314\n",
      "Train loss: 22.530212  [   10/  314]\n",
      "Train loss: 12.700695  [  110/  314]\n",
      "Train loss: 18.258001  [  210/  314]\n",
      "Train loss: 8.644220  [  310/  314]\n",
      "size:  78\n",
      "Test Error: \n",
      " Accuracy: 0.0%, Avg loss: 9.744093 \n",
      "\n",
      "Epoch 35\n",
      "-------------------------------\n",
      "size:  314\n",
      "Train loss: 32.295925  [   10/  314]\n",
      "Train loss: 10.886230  [  110/  314]\n",
      "Train loss: 24.167776  [  210/  314]\n",
      "Train loss: 17.508493  [  310/  314]\n",
      "size:  78\n",
      "Test Error: \n",
      " Accuracy: 0.0%, Avg loss: 8.870786 \n",
      "\n",
      "Epoch 36\n",
      "-------------------------------\n",
      "size:  314\n",
      "Train loss: 13.246741  [   10/  314]\n",
      "Train loss: 26.367762  [  110/  314]\n",
      "Train loss: 12.585955  [  210/  314]\n",
      "Train loss: 11.380245  [  310/  314]\n",
      "size:  78\n",
      "Test Error: \n",
      " Accuracy: 0.0%, Avg loss: 9.621734 \n",
      "\n",
      "Epoch 37\n",
      "-------------------------------\n",
      "size:  314\n",
      "Train loss: 11.142158  [   10/  314]\n",
      "Train loss: 38.908604  [  110/  314]\n",
      "Train loss: 13.548058  [  210/  314]\n",
      "Train loss: 5.722285  [  310/  314]\n",
      "size:  78\n",
      "Test Error: \n",
      " Accuracy: 0.0%, Avg loss: 8.581016 \n",
      "\n",
      "Epoch 38\n",
      "-------------------------------\n",
      "size:  314\n",
      "Train loss: 13.829879  [   10/  314]\n",
      "Train loss: 60.883278  [  110/  314]\n",
      "Train loss: 16.876646  [  210/  314]\n",
      "Train loss: 10.803656  [  310/  314]\n",
      "size:  78\n",
      "Test Error: \n",
      " Accuracy: 0.0%, Avg loss: 8.539175 \n",
      "\n",
      "Epoch 39\n",
      "-------------------------------\n",
      "size:  314\n",
      "Train loss: 6.569089  [   10/  314]\n",
      "Train loss: 7.761089  [  110/  314]\n",
      "Train loss: 28.105341  [  210/  314]\n",
      "Train loss: 34.579967  [  310/  314]\n",
      "size:  78\n",
      "Test Error: \n",
      " Accuracy: 0.0%, Avg loss: 8.962391 \n",
      "\n",
      "Epoch 40\n",
      "-------------------------------\n",
      "size:  314\n",
      "Train loss: 52.636749  [   10/  314]\n",
      "Train loss: 19.169569  [  110/  314]\n",
      "Train loss: 14.220267  [  210/  314]\n",
      "Train loss: 4.722061  [  310/  314]\n",
      "size:  78\n",
      "Test Error: \n",
      " Accuracy: 0.0%, Avg loss: 9.855092 \n",
      "\n",
      "Done!\n"
     ]
    }
   ],
   "source": [
    "device = 'cpu'\n",
    "device = mps_device\n",
    "nnet = nnet.to(device=device)\n",
    "epochs = 40\n",
    "for t in range(epochs):\n",
    "    print(f\"Epoch {t+1}\\n-------------------------------\")\n",
    "    train(train_dataloader, nnet, criterion, optimizer, device)\n",
    "    test(test_dataloader, nnet, criterion, device)\n",
    "print(\"Done!\")"
   ],
   "metadata": {
    "collapsed": false,
    "ExecuteTime": {
     "end_time": "2024-02-27T20:17:58.027119Z",
     "start_time": "2024-02-27T20:16:38.187550Z"
    }
   }
  },
  {
   "cell_type": "code",
   "execution_count": 44,
   "outputs": [
    {
     "name": "stdout",
     "output_type": "stream",
     "text": [
      "Real labels:  tensor([[43.1000],\n",
      "        [15.0000],\n",
      "        [32.0000],\n",
      "        [18.0000],\n",
      "        [33.0000],\n",
      "        [31.9000],\n",
      "        [28.1000],\n",
      "        [15.0000],\n",
      "        [20.0000],\n",
      "        [13.0000]])\n",
      "Predicted labels:  tensor([[32.8017],\n",
      "        [14.9792],\n",
      "        [38.5372],\n",
      "        [18.7852],\n",
      "        [33.4279],\n",
      "        [32.1571],\n",
      "        [29.9590],\n",
      "        [15.5542],\n",
      "        [19.9970],\n",
      "        [16.9723]], device='mps:0', grad_fn=<LinearBackward0>)\n",
      "Demo done!\n"
     ]
    }
   ],
   "source": [
    "sample = next(iter(test_dataloader))\n",
    "Y = nnet(sample[0].to(device=device))\n",
    "print(\"Real labels: \", sample[1])\n",
    "print(\"Predicted labels: \", Y)\n",
    "print(\"Demo done!\")"
   ],
   "metadata": {
    "collapsed": false,
    "ExecuteTime": {
     "end_time": "2024-02-27T20:13:59.967611Z",
     "start_time": "2024-02-27T20:13:59.693183Z"
    }
   }
  },
  {
   "cell_type": "code",
   "execution_count": 44,
   "outputs": [],
   "source": [],
   "metadata": {
    "collapsed": false,
    "ExecuteTime": {
     "end_time": "2024-02-27T20:14:54.652892Z",
     "start_time": "2024-02-27T20:14:54.618384Z"
    }
   }
  },
  {
   "cell_type": "code",
   "execution_count": null,
   "outputs": [],
   "source": [],
   "metadata": {
    "collapsed": false
   }
  }
 ],
 "metadata": {
  "kernelspec": {
   "display_name": "Python 3",
   "language": "python",
   "name": "python3"
  },
  "language_info": {
   "codemirror_mode": {
    "name": "ipython",
    "version": 2
   },
   "file_extension": ".py",
   "mimetype": "text/x-python",
   "name": "python",
   "nbconvert_exporter": "python",
   "pygments_lexer": "ipython2",
   "version": "2.7.6"
  }
 },
 "nbformat": 4,
 "nbformat_minor": 0
}
