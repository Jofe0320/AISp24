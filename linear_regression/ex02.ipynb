{
 "cells": [
  {
   "cell_type": "code",
   "execution_count": 1,
   "metadata": {
    "collapsed": true,
    "ExecuteTime": {
     "end_time": "2024-02-23T00:56:05.745570Z",
     "start_time": "2024-02-23T00:56:02.747924Z"
    }
   },
   "outputs": [
    {
     "name": "stderr",
     "output_type": "stream",
     "text": [
      "/var/folders/0c/y7bd5j0d2t556b_zf587bmsw0000gn/T/ipykernel_37218/4048784357.py:3: DeprecationWarning: \n",
      "Pyarrow will become a required dependency of pandas in the next major release of pandas (pandas 3.0),\n",
      "(to allow more performant data types, such as the Arrow string type, and better interoperability with other libraries)\n",
      "but was not found to be installed on your system.\n",
      "If this would cause problems for you,\n",
      "please provide us feedback at https://github.com/pandas-dev/pandas/issues/54466\n",
      "        \n",
      "  import pandas as pd\n"
     ]
    }
   ],
   "source": [
    "import torch\n",
    "import numpy as np\n",
    "import pandas as pd\n",
    "from torch.utils import data\n",
    "from torch.utils.data import Dataset, TensorDataset, DataLoader\n",
    "from torch import nn\n"
   ]
  },
  {
   "cell_type": "code",
   "execution_count": 1,
   "outputs": [],
   "source": [],
   "metadata": {
    "collapsed": false,
    "ExecuteTime": {
     "end_time": "2024-02-23T00:56:45.228707Z",
     "start_time": "2024-02-23T00:56:45.221796Z"
    }
   }
  },
  {
   "cell_type": "markdown",
   "source": [
    "The Data set is the AutoMPG Dataset\n"
   ],
   "metadata": {
    "collapsed": false
   }
  },
  {
   "cell_type": "code",
   "execution_count": 2,
   "outputs": [],
   "source": [
    "url = 'http://archive.ics.uci.edu/ml/machine-learning-databases/auto-mpg/auto-mpg.data'\n",
    "column_names = ['MPG', 'Cylinders', 'Displacement', 'Horsepower', 'Weight',\n",
    "                'Acceleration', 'Model Year', 'Origin']\n",
    "\n",
    "raw_dataset = pd.read_csv(url, names=column_names,\n",
    "                          na_values='?', comment='\\t',\n",
    "                          sep=' ', skipinitialspace=True)"
   ],
   "metadata": {
    "collapsed": false,
    "ExecuteTime": {
     "end_time": "2024-02-23T00:56:49.676785Z",
     "start_time": "2024-02-23T00:56:49.023431Z"
    }
   }
  },
  {
   "cell_type": "code",
   "execution_count": 3,
   "outputs": [
    {
     "data": {
      "text/plain": "      MPG  Cylinders  Displacement  Horsepower  Weight  Acceleration  \\\n393  27.0          4         140.0        86.0  2790.0          15.6   \n394  44.0          4          97.0        52.0  2130.0          24.6   \n395  32.0          4         135.0        84.0  2295.0          11.6   \n396  28.0          4         120.0        79.0  2625.0          18.6   \n397  31.0          4         119.0        82.0  2720.0          19.4   \n\n     Model Year  Origin  \n393          82       1  \n394          82       2  \n395          82       1  \n396          82       1  \n397          82       1  ",
      "text/html": "<div>\n<style scoped>\n    .dataframe tbody tr th:only-of-type {\n        vertical-align: middle;\n    }\n\n    .dataframe tbody tr th {\n        vertical-align: top;\n    }\n\n    .dataframe thead th {\n        text-align: right;\n    }\n</style>\n<table border=\"1\" class=\"dataframe\">\n  <thead>\n    <tr style=\"text-align: right;\">\n      <th></th>\n      <th>MPG</th>\n      <th>Cylinders</th>\n      <th>Displacement</th>\n      <th>Horsepower</th>\n      <th>Weight</th>\n      <th>Acceleration</th>\n      <th>Model Year</th>\n      <th>Origin</th>\n    </tr>\n  </thead>\n  <tbody>\n    <tr>\n      <th>393</th>\n      <td>27.0</td>\n      <td>4</td>\n      <td>140.0</td>\n      <td>86.0</td>\n      <td>2790.0</td>\n      <td>15.6</td>\n      <td>82</td>\n      <td>1</td>\n    </tr>\n    <tr>\n      <th>394</th>\n      <td>44.0</td>\n      <td>4</td>\n      <td>97.0</td>\n      <td>52.0</td>\n      <td>2130.0</td>\n      <td>24.6</td>\n      <td>82</td>\n      <td>2</td>\n    </tr>\n    <tr>\n      <th>395</th>\n      <td>32.0</td>\n      <td>4</td>\n      <td>135.0</td>\n      <td>84.0</td>\n      <td>2295.0</td>\n      <td>11.6</td>\n      <td>82</td>\n      <td>1</td>\n    </tr>\n    <tr>\n      <th>396</th>\n      <td>28.0</td>\n      <td>4</td>\n      <td>120.0</td>\n      <td>79.0</td>\n      <td>2625.0</td>\n      <td>18.6</td>\n      <td>82</td>\n      <td>1</td>\n    </tr>\n    <tr>\n      <th>397</th>\n      <td>31.0</td>\n      <td>4</td>\n      <td>119.0</td>\n      <td>82.0</td>\n      <td>2720.0</td>\n      <td>19.4</td>\n      <td>82</td>\n      <td>1</td>\n    </tr>\n  </tbody>\n</table>\n</div>"
     },
     "execution_count": 3,
     "metadata": {},
     "output_type": "execute_result"
    }
   ],
   "source": [
    "dataset = raw_dataset.copy()\n",
    "dataset.tail()"
   ],
   "metadata": {
    "collapsed": false,
    "ExecuteTime": {
     "end_time": "2024-02-23T00:56:50.853840Z",
     "start_time": "2024-02-23T00:56:50.793062Z"
    }
   }
  },
  {
   "cell_type": "markdown",
   "source": [
    "Now procede to clean the data by removing the Nan and fixing other values.\n"
   ],
   "metadata": {
    "collapsed": false
   }
  },
  {
   "cell_type": "code",
   "execution_count": 4,
   "outputs": [
    {
     "data": {
      "text/plain": "MPG             0\nCylinders       0\nDisplacement    0\nHorsepower      6\nWeight          0\nAcceleration    0\nModel Year      0\nOrigin          0\ndtype: int64"
     },
     "execution_count": 4,
     "metadata": {},
     "output_type": "execute_result"
    }
   ],
   "source": [
    "dataset.isna().sum()\n"
   ],
   "metadata": {
    "collapsed": false,
    "ExecuteTime": {
     "end_time": "2024-02-23T00:57:05.102725Z",
     "start_time": "2024-02-23T00:57:05.092337Z"
    }
   }
  },
  {
   "cell_type": "code",
   "execution_count": 5,
   "outputs": [],
   "source": [
    "dataset = dataset.dropna()\n"
   ],
   "metadata": {
    "collapsed": false,
    "ExecuteTime": {
     "end_time": "2024-02-23T00:57:06.727470Z",
     "start_time": "2024-02-23T00:57:06.725032Z"
    }
   }
  },
  {
   "cell_type": "markdown",
   "source": [
    "Change categorical column\n"
   ],
   "metadata": {
    "collapsed": false
   }
  },
  {
   "cell_type": "code",
   "execution_count": 6,
   "outputs": [
    {
     "data": {
      "text/plain": "      MPG  Cylinders  Displacement  Horsepower  Weight  Acceleration  \\\n393  27.0          4         140.0        86.0  2790.0          15.6   \n394  44.0          4          97.0        52.0  2130.0          24.6   \n395  32.0          4         135.0        84.0  2295.0          11.6   \n396  28.0          4         120.0        79.0  2625.0          18.6   \n397  31.0          4         119.0        82.0  2720.0          19.4   \n\n     Model Year  Europe  Japan    USA  \n393          82   False  False   True  \n394          82    True  False  False  \n395          82   False  False   True  \n396          82   False  False   True  \n397          82   False  False   True  ",
      "text/html": "<div>\n<style scoped>\n    .dataframe tbody tr th:only-of-type {\n        vertical-align: middle;\n    }\n\n    .dataframe tbody tr th {\n        vertical-align: top;\n    }\n\n    .dataframe thead th {\n        text-align: right;\n    }\n</style>\n<table border=\"1\" class=\"dataframe\">\n  <thead>\n    <tr style=\"text-align: right;\">\n      <th></th>\n      <th>MPG</th>\n      <th>Cylinders</th>\n      <th>Displacement</th>\n      <th>Horsepower</th>\n      <th>Weight</th>\n      <th>Acceleration</th>\n      <th>Model Year</th>\n      <th>Europe</th>\n      <th>Japan</th>\n      <th>USA</th>\n    </tr>\n  </thead>\n  <tbody>\n    <tr>\n      <th>393</th>\n      <td>27.0</td>\n      <td>4</td>\n      <td>140.0</td>\n      <td>86.0</td>\n      <td>2790.0</td>\n      <td>15.6</td>\n      <td>82</td>\n      <td>False</td>\n      <td>False</td>\n      <td>True</td>\n    </tr>\n    <tr>\n      <th>394</th>\n      <td>44.0</td>\n      <td>4</td>\n      <td>97.0</td>\n      <td>52.0</td>\n      <td>2130.0</td>\n      <td>24.6</td>\n      <td>82</td>\n      <td>True</td>\n      <td>False</td>\n      <td>False</td>\n    </tr>\n    <tr>\n      <th>395</th>\n      <td>32.0</td>\n      <td>4</td>\n      <td>135.0</td>\n      <td>84.0</td>\n      <td>2295.0</td>\n      <td>11.6</td>\n      <td>82</td>\n      <td>False</td>\n      <td>False</td>\n      <td>True</td>\n    </tr>\n    <tr>\n      <th>396</th>\n      <td>28.0</td>\n      <td>4</td>\n      <td>120.0</td>\n      <td>79.0</td>\n      <td>2625.0</td>\n      <td>18.6</td>\n      <td>82</td>\n      <td>False</td>\n      <td>False</td>\n      <td>True</td>\n    </tr>\n    <tr>\n      <th>397</th>\n      <td>31.0</td>\n      <td>4</td>\n      <td>119.0</td>\n      <td>82.0</td>\n      <td>2720.0</td>\n      <td>19.4</td>\n      <td>82</td>\n      <td>False</td>\n      <td>False</td>\n      <td>True</td>\n    </tr>\n  </tbody>\n</table>\n</div>"
     },
     "execution_count": 6,
     "metadata": {},
     "output_type": "execute_result"
    }
   ],
   "source": [
    "dataset['Origin'] = dataset['Origin'].map({1: 'USA', 2: 'Europe', 3: 'Japan'})\n",
    "dataset = pd.get_dummies(dataset, columns=['Origin'], prefix='', prefix_sep='')\n",
    "dataset.tail()"
   ],
   "metadata": {
    "collapsed": false,
    "ExecuteTime": {
     "end_time": "2024-02-23T00:57:09.887594Z",
     "start_time": "2024-02-23T00:57:09.834854Z"
    }
   }
  },
  {
   "cell_type": "code",
   "execution_count": 7,
   "outputs": [
    {
     "name": "stdout",
     "output_type": "stream",
     "text": [
      "shape of train_dataset:  (314, 10)\n",
      "shape of test_dataset:  (78, 10)\n"
     ]
    }
   ],
   "source": [
    "train_dataset = dataset.sample(frac=0.8, random_state=0)\n",
    "test_dataset = dataset.drop(train_dataset.index)\n",
    "print(\"shape of train_dataset: \", train_dataset.shape)\n",
    "print(\"shape of test_dataset: \", test_dataset.shape)\n"
   ],
   "metadata": {
    "collapsed": false,
    "ExecuteTime": {
     "end_time": "2024-02-23T00:57:21.536921Z",
     "start_time": "2024-02-23T00:57:21.528486Z"
    }
   }
  },
  {
   "cell_type": "code",
   "execution_count": 8,
   "outputs": [
    {
     "name": "stdout",
     "output_type": "stream",
     "text": [
      "shape of train_features:  (314, 9)\n",
      "shape of test_features:  (78, 9)\n",
      "shape of train_labels:  (314,)\n",
      "shape of test_labels:  (78,)\n"
     ]
    }
   ],
   "source": [
    "train_features = train_dataset.copy()\n",
    "test_features = test_dataset.copy()\n",
    "\n",
    "train_labels = train_features.pop('MPG')\n",
    "test_labels = test_features.pop('MPG')\n",
    "print(\"shape of train_features: \", train_features.shape)\n",
    "print(\"shape of test_features: \", test_features.shape)\n",
    "print(\"shape of train_labels: \", train_labels.shape)\n",
    "print(\"shape of test_labels: \", test_labels.shape)"
   ],
   "metadata": {
    "collapsed": false,
    "ExecuteTime": {
     "end_time": "2024-02-23T00:57:23.876528Z",
     "start_time": "2024-02-23T00:57:23.865890Z"
    }
   }
  },
  {
   "cell_type": "code",
   "execution_count": 8,
   "outputs": [],
   "source": [],
   "metadata": {
    "collapsed": false,
    "ExecuteTime": {
     "end_time": "2024-02-23T00:57:26.198167Z",
     "start_time": "2024-02-23T00:57:26.194227Z"
    }
   }
  },
  {
   "cell_type": "code",
   "execution_count": 9,
   "outputs": [
    {
     "name": "stdout",
     "output_type": "stream",
     "text": [
      "sample batch:  [tensor([[6.0000e+00, 2.5000e+02, 1.0000e+02, 3.2820e+03, 1.5000e+01, 7.1000e+01,\n",
      "         0.0000e+00, 0.0000e+00, 1.0000e+00],\n",
      "        [6.0000e+00, 2.0000e+02, 8.1000e+01, 3.0120e+03, 1.7600e+01, 7.6000e+01,\n",
      "         0.0000e+00, 0.0000e+00, 1.0000e+00],\n",
      "        [4.0000e+00, 1.5100e+02, 9.0000e+01, 3.0030e+03, 2.0100e+01, 8.0000e+01,\n",
      "         0.0000e+00, 0.0000e+00, 1.0000e+00],\n",
      "        [8.0000e+00, 3.0200e+02, 1.4000e+02, 4.1410e+03, 1.4000e+01, 7.4000e+01,\n",
      "         0.0000e+00, 0.0000e+00, 1.0000e+00],\n",
      "        [6.0000e+00, 1.9900e+02, 9.0000e+01, 2.6480e+03, 1.5000e+01, 7.0000e+01,\n",
      "         0.0000e+00, 0.0000e+00, 1.0000e+00],\n",
      "        [4.0000e+00, 9.8000e+01, 6.8000e+01, 2.1550e+03, 1.6500e+01, 7.8000e+01,\n",
      "         0.0000e+00, 0.0000e+00, 1.0000e+00],\n",
      "        [4.0000e+00, 1.1600e+02, 9.0000e+01, 2.1230e+03, 1.4000e+01, 7.1000e+01,\n",
      "         1.0000e+00, 0.0000e+00, 0.0000e+00],\n",
      "        [4.0000e+00, 9.0000e+01, 4.8000e+01, 2.3350e+03, 2.3700e+01, 8.0000e+01,\n",
      "         1.0000e+00, 0.0000e+00, 0.0000e+00],\n",
      "        [8.0000e+00, 4.5500e+02, 2.2500e+02, 4.4250e+03, 1.0000e+01, 7.0000e+01,\n",
      "         0.0000e+00, 0.0000e+00, 1.0000e+00],\n",
      "        [6.0000e+00, 2.2500e+02, 1.0500e+02, 3.6130e+03, 1.6500e+01, 7.4000e+01,\n",
      "         0.0000e+00, 0.0000e+00, 1.0000e+00]]), tensor([[19.0000],\n",
      "        [24.0000],\n",
      "        [24.3000],\n",
      "        [16.0000],\n",
      "        [21.0000],\n",
      "        [30.0000],\n",
      "        [28.0000],\n",
      "        [43.4000],\n",
      "        [14.0000],\n",
      "        [18.0000]])]\n",
      "batch len:  2\n"
     ]
    }
   ],
   "source": [
    "batch = 10\n",
    "X =np.array(train_features.values.astype(np.float32))\n",
    "X = torch.Tensor(X)\n",
    "y = np.array(train_labels.values.astype(np.float32))\n",
    "y = torch.Tensor(y)\n",
    "y = torch.reshape(y, (-1,1))\n",
    "train = TensorDataset(X,y)\n",
    "train_dataloader = DataLoader(train, batch_size=batch, shuffle=True)\n",
    "sample = next(iter(train_dataloader))\n",
    "print(\"sample batch: \", sample)\n",
    "print(\"batch len: \", len(sample))"
   ],
   "metadata": {
    "collapsed": false,
    "ExecuteTime": {
     "end_time": "2024-02-23T00:57:27.568169Z",
     "start_time": "2024-02-23T00:57:27.536276Z"
    }
   }
  },
  {
   "cell_type": "code",
   "execution_count": 10,
   "outputs": [
    {
     "name": "stdout",
     "output_type": "stream",
     "text": [
      "Shape of X [N, C, H, W]: torch.Size([10, 9])\n",
      "Shape of y: torch.Size([10, 1]) torch.float32\n"
     ]
    }
   ],
   "source": [
    "for X, y in train_dataloader:\n",
    "    print(f\"Shape of X [N, C, H, W]: {X.shape}\")\n",
    "    print(f\"Shape of y: {y.shape} {y.dtype}\")\n",
    "    break"
   ],
   "metadata": {
    "collapsed": false,
    "ExecuteTime": {
     "end_time": "2024-02-23T00:57:41.602283Z",
     "start_time": "2024-02-23T00:57:41.597455Z"
    }
   }
  },
  {
   "cell_type": "code",
   "execution_count": 11,
   "outputs": [
    {
     "name": "stdout",
     "output_type": "stream",
     "text": [
      "sample batch:  tensor([[4.0000e+00, 1.5100e+02, 8.4000e+01, 2.6350e+03, 1.6400e+01, 8.1000e+01,\n",
      "         0.0000e+00, 0.0000e+00, 1.0000e+00],\n",
      "        [8.0000e+00, 3.0700e+02, 1.3000e+02, 4.0980e+03, 1.4000e+01, 7.2000e+01,\n",
      "         0.0000e+00, 0.0000e+00, 1.0000e+00],\n",
      "        [3.0000e+00, 7.0000e+01, 9.7000e+01, 2.3300e+03, 1.3500e+01, 7.2000e+01,\n",
      "         0.0000e+00, 1.0000e+00, 0.0000e+00],\n",
      "        [6.0000e+00, 2.5000e+02, 1.0000e+02, 3.7810e+03, 1.7000e+01, 7.4000e+01,\n",
      "         0.0000e+00, 0.0000e+00, 1.0000e+00],\n",
      "        [4.0000e+00, 9.8000e+01, 6.5000e+01, 2.0450e+03, 1.6200e+01, 8.1000e+01,\n",
      "         0.0000e+00, 0.0000e+00, 1.0000e+00],\n",
      "        [4.0000e+00, 9.1000e+01, 6.7000e+01, 1.9650e+03, 1.5700e+01, 8.2000e+01,\n",
      "         0.0000e+00, 1.0000e+00, 0.0000e+00],\n",
      "        [4.0000e+00, 1.0500e+02, 7.5000e+01, 2.2300e+03, 1.4500e+01, 7.8000e+01,\n",
      "         0.0000e+00, 0.0000e+00, 1.0000e+00],\n",
      "        [4.0000e+00, 9.8000e+01, 6.6000e+01, 1.8000e+03, 1.4400e+01, 7.8000e+01,\n",
      "         0.0000e+00, 0.0000e+00, 1.0000e+00],\n",
      "        [4.0000e+00, 1.5600e+02, 1.0500e+02, 2.8000e+03, 1.4400e+01, 8.0000e+01,\n",
      "         0.0000e+00, 0.0000e+00, 1.0000e+00],\n",
      "        [6.0000e+00, 2.3100e+02, 1.1000e+02, 3.4150e+03, 1.5800e+01, 8.1000e+01,\n",
      "         0.0000e+00, 0.0000e+00, 1.0000e+00]])\n",
      "batch len:  2\n"
     ]
    }
   ],
   "source": [
    "X =np.array(test_features.values.astype(np.float32))\n",
    "X = torch.Tensor(X)\n",
    "y = np.array(test_labels.values.astype(np.float32))\n",
    "y = torch.Tensor(y)\n",
    "y = torch.reshape(y, (-1,1))\n",
    "test = TensorDataset(X,y)\n",
    "test_dataloader = DataLoader(test, batch_size=batch, shuffle=True)\n",
    "sample = next(iter(test_dataloader))\n",
    "print(\"sample batch: \", sample[0])\n",
    "print(\"batch len: \", len(sample))"
   ],
   "metadata": {
    "collapsed": false,
    "ExecuteTime": {
     "end_time": "2024-02-23T00:58:04.146876Z",
     "start_time": "2024-02-23T00:58:04.135016Z"
    }
   }
  },
  {
   "cell_type": "code",
   "execution_count": 12,
   "outputs": [
    {
     "name": "stdout",
     "output_type": "stream",
     "text": [
      "Shape of X [N, C, H, W]: torch.Size([10, 9])\n",
      "Shape of y: torch.Size([10, 1]) torch.float32\n"
     ]
    }
   ],
   "source": [
    "for X, y in test_dataloader:\n",
    "    print(f\"Shape of X [N, C, H, W]: {X.shape}\")\n",
    "    print(f\"Shape of y: {y.shape} {y.dtype}\")\n",
    "    break"
   ],
   "metadata": {
    "collapsed": false,
    "ExecuteTime": {
     "end_time": "2024-02-23T00:58:07.046261Z",
     "start_time": "2024-02-23T00:58:07.030648Z"
    }
   }
  },
  {
   "cell_type": "code",
   "execution_count": 28,
   "outputs": [],
   "source": [
    "class NNModel(nn.Module):\n",
    "    def __init__(self):\n",
    "        #super(NNModel, self).__init__()\n",
    "        super().__init__()\n",
    "        self.norm = nn.BatchNorm1d(9)\n",
    "        self.fc1 = nn.Linear(9,1)\n",
    "\n",
    "\n",
    "    def forward(self, x):\n",
    "        t = self.norm(x)\n",
    "        t = self.fc1(t)\n",
    "        return t\n"
   ],
   "metadata": {
    "collapsed": false,
    "ExecuteTime": {
     "end_time": "2024-02-23T01:07:25.683068Z",
     "start_time": "2024-02-23T01:07:25.672341Z"
    }
   }
  },
  {
   "cell_type": "code",
   "execution_count": 45,
   "outputs": [],
   "source": [
    "class NNModel2(nn.Module):\n",
    "    def __init__(self):\n",
    "        #super(NNModel, self).__init__()\n",
    "        super().__init__()\n",
    "        self.norm = nn.BatchNorm1d(9)\n",
    "        self.fc1 = nn.Linear(9,18)\n",
    "        self.fc2 = nn.Linear(18,9)\n",
    "        self.fc3 = nn.Linear(9,1)\n",
    "        self.relu = nn.ReLU()\n",
    "\n",
    "\n",
    "    def forward(self, x):\n",
    "        t = self.norm(x)\n",
    "        t = self.fc1(t)\n",
    "        t = self.relu(t)\n",
    "        t = self.fc2(t)\n",
    "        t = self.relu(t)\n",
    "        t = self.fc3(t)\n",
    "        return t"
   ],
   "metadata": {
    "collapsed": false,
    "ExecuteTime": {
     "end_time": "2024-02-23T01:17:30.196899Z",
     "start_time": "2024-02-23T01:17:30.186119Z"
    }
   }
  },
  {
   "cell_type": "code",
   "execution_count": 66,
   "outputs": [],
   "source": [
    "#nnet = NNModel()\n",
    "nnet = NNModel2()\n"
   ],
   "metadata": {
    "collapsed": false,
    "ExecuteTime": {
     "end_time": "2024-02-23T01:23:04.955171Z",
     "start_time": "2024-02-23T01:23:04.943629Z"
    }
   }
  },
  {
   "cell_type": "code",
   "execution_count": 67,
   "outputs": [
    {
     "data": {
      "text/plain": "===================================================================================================================\nLayer (type:depth-idx)                   Input Shape               Output Shape              Param #\n===================================================================================================================\nNNModel2                                 [10, 9]                   [10, 1]                   --\n├─BatchNorm1d: 1-1                       [10, 9]                   [10, 9]                   18\n├─Linear: 1-2                            [10, 9]                   [10, 18]                  180\n├─ReLU: 1-3                              [10, 18]                  [10, 18]                  --\n├─Linear: 1-4                            [10, 18]                  [10, 9]                   171\n├─ReLU: 1-5                              [10, 9]                   [10, 9]                   --\n├─Linear: 1-6                            [10, 9]                   [10, 1]                   10\n===================================================================================================================\nTotal params: 379\nTrainable params: 379\nNon-trainable params: 0\nTotal mult-adds (M): 0.00\n===================================================================================================================\nInput size (MB): 0.00\nForward/backward pass size (MB): 0.00\nParams size (MB): 0.00\nEstimated Total Size (MB): 0.00\n==================================================================================================================="
     },
     "execution_count": 67,
     "metadata": {},
     "output_type": "execute_result"
    }
   ],
   "source": [
    "from torchinfo import summary\n",
    "batch = 10\n",
    "summary(nnet, input_size=(batch, 9), device='cpu', col_names=['input_size', 'output_size',\n",
    "                                                              'num_params'])\n"
   ],
   "metadata": {
    "collapsed": false,
    "ExecuteTime": {
     "end_time": "2024-02-23T01:23:06.147315Z",
     "start_time": "2024-02-23T01:23:06.137071Z"
    }
   }
  },
  {
   "cell_type": "code",
   "execution_count": 68,
   "outputs": [],
   "source": [
    "def train(dataloader, model, loss_fn, optimizer, device):\n",
    "    size = len(dataloader.dataset)\n",
    "    print(\"size: \", size)\n",
    "    model.train()\n",
    "    for batch, (X, y) in enumerate(dataloader):\n",
    "        X, y = X.to(device), y.to(device)\n",
    "        #print(\"X: \" , X)\n",
    "        # Compute prediction error\n",
    "        pred = model(X)\n",
    "        loss = loss_fn(pred, y)\n",
    "\n",
    "        # Backpropagation\n",
    "        loss.backward()\n",
    "        optimizer.step()\n",
    "        optimizer.zero_grad()\n",
    "\n",
    "        if batch % 10 == 0:\n",
    "            loss, current = loss.item(), (batch + 1) * len(X)\n",
    "            print(f\"Train loss: {loss:>7f}  [{current:>5d}/{size:>5d}]\")"
   ],
   "metadata": {
    "collapsed": false,
    "ExecuteTime": {
     "end_time": "2024-02-23T01:23:10.111183Z",
     "start_time": "2024-02-23T01:23:10.104202Z"
    }
   }
  },
  {
   "cell_type": "code",
   "execution_count": 69,
   "outputs": [],
   "source": [
    "def test(dataloader, model, loss_fn, device):\n",
    "    size = len(dataloader.dataset)\n",
    "    print(\"size: \", size)\n",
    "    num_batches = len(dataloader)\n",
    "    model.eval()\n",
    "    test_loss, correct = 0, 0\n",
    "    with torch.no_grad():\n",
    "        for X, y in dataloader:\n",
    "            X, y = X.to(device), y.to(device)\n",
    "            pred = model(X)\n",
    "            test_loss += loss_fn(pred, y).item()\n",
    "            correct += (pred.argmax(1) == y).type(torch.float).sum().item()\n",
    "    test_loss /= num_batches\n",
    "    correct /= size\n",
    "    print(f\"Test Error: \\n Accuracy: {(100*correct):>0.1f}%, Avg loss: {test_loss:>8f} \\n\")"
   ],
   "metadata": {
    "collapsed": false,
    "ExecuteTime": {
     "end_time": "2024-02-23T01:23:11.081683Z",
     "start_time": "2024-02-23T01:23:11.071503Z"
    }
   }
  },
  {
   "cell_type": "code",
   "execution_count": 75,
   "outputs": [],
   "source": [
    "import torch.optim as optim\n",
    "\n",
    "criterion = nn.MSELoss()\n",
    "optimizer = optim.Adam(nnet.parameters(), lr=0.001)\n"
   ],
   "metadata": {
    "collapsed": false,
    "ExecuteTime": {
     "end_time": "2024-02-23T01:25:48.265843Z",
     "start_time": "2024-02-23T01:25:48.257004Z"
    }
   }
  },
  {
   "cell_type": "code",
   "execution_count": 76,
   "outputs": [
    {
     "name": "stdout",
     "output_type": "stream",
     "text": [
      "Epoch 1\n",
      "-------------------------------\n",
      "size:  314\n",
      "Train loss: 2.985722  [   10/  314]\n",
      "Train loss: 6.383417  [  110/  314]\n",
      "Train loss: 8.665548  [  210/  314]\n",
      "Train loss: 5.512855  [  310/  314]\n",
      "size:  78\n",
      "Test Error: \n",
      " Accuracy: 0.0%, Avg loss: 7.911702 \n",
      "\n",
      "Epoch 2\n",
      "-------------------------------\n",
      "size:  314\n",
      "Train loss: 20.824890  [   10/  314]\n",
      "Train loss: 9.538658  [  110/  314]\n",
      "Train loss: 6.225008  [  210/  314]\n",
      "Train loss: 12.321730  [  310/  314]\n",
      "size:  78\n",
      "Test Error: \n",
      " Accuracy: 0.0%, Avg loss: 6.768775 \n",
      "\n",
      "Epoch 3\n",
      "-------------------------------\n",
      "size:  314\n",
      "Train loss: 4.476262  [   10/  314]\n",
      "Train loss: 19.012058  [  110/  314]\n",
      "Train loss: 9.495032  [  210/  314]\n",
      "Train loss: 14.579503  [  310/  314]\n",
      "size:  78\n",
      "Test Error: \n",
      " Accuracy: 0.0%, Avg loss: 6.792705 \n",
      "\n",
      "Epoch 4\n",
      "-------------------------------\n",
      "size:  314\n",
      "Train loss: 11.359545  [   10/  314]\n",
      "Train loss: 33.392159  [  110/  314]\n",
      "Train loss: 42.585793  [  210/  314]\n",
      "Train loss: 16.360174  [  310/  314]\n",
      "size:  78\n",
      "Test Error: \n",
      " Accuracy: 0.0%, Avg loss: 6.834559 \n",
      "\n",
      "Epoch 5\n",
      "-------------------------------\n",
      "size:  314\n",
      "Train loss: 14.903737  [   10/  314]\n",
      "Train loss: 13.774098  [  110/  314]\n",
      "Train loss: 34.018650  [  210/  314]\n",
      "Train loss: 16.045414  [  310/  314]\n",
      "size:  78\n",
      "Test Error: \n",
      " Accuracy: 0.0%, Avg loss: 7.229326 \n",
      "\n",
      "Epoch 6\n",
      "-------------------------------\n",
      "size:  314\n",
      "Train loss: 10.967824  [   10/  314]\n",
      "Train loss: 4.346071  [  110/  314]\n",
      "Train loss: 9.434411  [  210/  314]\n",
      "Train loss: 7.357235  [  310/  314]\n",
      "size:  78\n",
      "Test Error: \n",
      " Accuracy: 0.0%, Avg loss: 7.335563 \n",
      "\n",
      "Epoch 7\n",
      "-------------------------------\n",
      "size:  314\n",
      "Train loss: 10.718813  [   10/  314]\n",
      "Train loss: 3.538467  [  110/  314]\n",
      "Train loss: 27.661602  [  210/  314]\n",
      "Train loss: 3.302176  [  310/  314]\n",
      "size:  78\n",
      "Test Error: \n",
      " Accuracy: 0.0%, Avg loss: 6.721719 \n",
      "\n",
      "Epoch 8\n",
      "-------------------------------\n",
      "size:  314\n",
      "Train loss: 6.355577  [   10/  314]\n",
      "Train loss: 12.633710  [  110/  314]\n",
      "Train loss: 33.727318  [  210/  314]\n",
      "Train loss: 17.937056  [  310/  314]\n",
      "size:  78\n",
      "Test Error: \n",
      " Accuracy: 0.0%, Avg loss: 7.052466 \n",
      "\n",
      "Epoch 9\n",
      "-------------------------------\n",
      "size:  314\n",
      "Train loss: 10.481198  [   10/  314]\n",
      "Train loss: 2.273531  [  110/  314]\n",
      "Train loss: 4.251546  [  210/  314]\n",
      "Train loss: 16.654320  [  310/  314]\n",
      "size:  78\n",
      "Test Error: \n",
      " Accuracy: 0.0%, Avg loss: 6.620038 \n",
      "\n",
      "Epoch 10\n",
      "-------------------------------\n",
      "size:  314\n",
      "Train loss: 10.573030  [   10/  314]\n",
      "Train loss: 13.429088  [  110/  314]\n",
      "Train loss: 13.000453  [  210/  314]\n",
      "Train loss: 3.149142  [  310/  314]\n",
      "size:  78\n",
      "Test Error: \n",
      " Accuracy: 0.0%, Avg loss: 7.034179 \n",
      "\n",
      "Epoch 11\n",
      "-------------------------------\n",
      "size:  314\n",
      "Train loss: 3.406982  [   10/  314]\n",
      "Train loss: 18.909506  [  110/  314]\n",
      "Train loss: 5.068501  [  210/  314]\n",
      "Train loss: 5.631424  [  310/  314]\n",
      "size:  78\n",
      "Test Error: \n",
      " Accuracy: 0.0%, Avg loss: 6.907753 \n",
      "\n",
      "Epoch 12\n",
      "-------------------------------\n",
      "size:  314\n",
      "Train loss: 9.081205  [   10/  314]\n",
      "Train loss: 4.893041  [  110/  314]\n",
      "Train loss: 5.055532  [  210/  314]\n",
      "Train loss: 2.717637  [  310/  314]\n",
      "size:  78\n",
      "Test Error: \n",
      " Accuracy: 0.0%, Avg loss: 6.610108 \n",
      "\n",
      "Epoch 13\n",
      "-------------------------------\n",
      "size:  314\n",
      "Train loss: 8.098569  [   10/  314]\n",
      "Train loss: 13.196582  [  110/  314]\n",
      "Train loss: 12.145983  [  210/  314]\n",
      "Train loss: 3.677538  [  310/  314]\n",
      "size:  78\n",
      "Test Error: \n",
      " Accuracy: 0.0%, Avg loss: 6.434289 \n",
      "\n",
      "Epoch 14\n",
      "-------------------------------\n",
      "size:  314\n",
      "Train loss: 6.445967  [   10/  314]\n",
      "Train loss: 25.457098  [  110/  314]\n",
      "Train loss: 7.406085  [  210/  314]\n",
      "Train loss: 4.797610  [  310/  314]\n",
      "size:  78\n",
      "Test Error: \n",
      " Accuracy: 0.0%, Avg loss: 6.504137 \n",
      "\n",
      "Epoch 15\n",
      "-------------------------------\n",
      "size:  314\n",
      "Train loss: 18.401995  [   10/  314]\n",
      "Train loss: 8.717546  [  110/  314]\n",
      "Train loss: 9.359426  [  210/  314]\n",
      "Train loss: 14.787854  [  310/  314]\n",
      "size:  78\n",
      "Test Error: \n",
      " Accuracy: 0.0%, Avg loss: 7.162481 \n",
      "\n",
      "Epoch 16\n",
      "-------------------------------\n",
      "size:  314\n",
      "Train loss: 10.913404  [   10/  314]\n",
      "Train loss: 4.766925  [  110/  314]\n",
      "Train loss: 5.596215  [  210/  314]\n",
      "Train loss: 18.858412  [  310/  314]\n",
      "size:  78\n",
      "Test Error: \n",
      " Accuracy: 0.0%, Avg loss: 6.538570 \n",
      "\n",
      "Epoch 17\n",
      "-------------------------------\n",
      "size:  314\n",
      "Train loss: 15.183772  [   10/  314]\n",
      "Train loss: 5.662391  [  110/  314]\n",
      "Train loss: 2.203047  [  210/  314]\n",
      "Train loss: 5.056058  [  310/  314]\n",
      "size:  78\n",
      "Test Error: \n",
      " Accuracy: 0.0%, Avg loss: 6.340050 \n",
      "\n",
      "Epoch 18\n",
      "-------------------------------\n",
      "size:  314\n",
      "Train loss: 28.978710  [   10/  314]\n",
      "Train loss: 10.317380  [  110/  314]\n",
      "Train loss: 5.264979  [  210/  314]\n",
      "Train loss: 6.009561  [  310/  314]\n",
      "size:  78\n",
      "Test Error: \n",
      " Accuracy: 0.0%, Avg loss: 6.750929 \n",
      "\n",
      "Epoch 19\n",
      "-------------------------------\n",
      "size:  314\n",
      "Train loss: 12.447700  [   10/  314]\n",
      "Train loss: 7.383368  [  110/  314]\n",
      "Train loss: 18.645924  [  210/  314]\n",
      "Train loss: 21.780603  [  310/  314]\n",
      "size:  78\n",
      "Test Error: \n",
      " Accuracy: 0.0%, Avg loss: 7.418207 \n",
      "\n",
      "Epoch 20\n",
      "-------------------------------\n",
      "size:  314\n",
      "Train loss: 1.810678  [   10/  314]\n",
      "Train loss: 12.535845  [  110/  314]\n",
      "Train loss: 3.925166  [  210/  314]\n",
      "Train loss: 19.852840  [  310/  314]\n",
      "size:  78\n",
      "Test Error: \n",
      " Accuracy: 0.0%, Avg loss: 6.371271 \n",
      "\n",
      "Epoch 21\n",
      "-------------------------------\n",
      "size:  314\n",
      "Train loss: 5.213479  [   10/  314]\n",
      "Train loss: 15.982244  [  110/  314]\n",
      "Train loss: 24.700146  [  210/  314]\n",
      "Train loss: 5.494147  [  310/  314]\n",
      "size:  78\n",
      "Test Error: \n",
      " Accuracy: 0.0%, Avg loss: 8.144199 \n",
      "\n",
      "Epoch 22\n",
      "-------------------------------\n",
      "size:  314\n",
      "Train loss: 7.449034  [   10/  314]\n",
      "Train loss: 43.140419  [  110/  314]\n",
      "Train loss: 9.029154  [  210/  314]\n",
      "Train loss: 7.459474  [  310/  314]\n",
      "size:  78\n",
      "Test Error: \n",
      " Accuracy: 0.0%, Avg loss: 6.739297 \n",
      "\n",
      "Epoch 23\n",
      "-------------------------------\n",
      "size:  314\n",
      "Train loss: 10.061739  [   10/  314]\n",
      "Train loss: 7.222129  [  110/  314]\n",
      "Train loss: 9.769223  [  210/  314]\n",
      "Train loss: 5.633354  [  310/  314]\n",
      "size:  78\n",
      "Test Error: \n",
      " Accuracy: 0.0%, Avg loss: 7.272304 \n",
      "\n",
      "Epoch 24\n",
      "-------------------------------\n",
      "size:  314\n",
      "Train loss: 14.234343  [   10/  314]\n",
      "Train loss: 14.710803  [  110/  314]\n",
      "Train loss: 6.221939  [  210/  314]\n",
      "Train loss: 17.540930  [  310/  314]\n",
      "size:  78\n",
      "Test Error: \n",
      " Accuracy: 0.0%, Avg loss: 8.239568 \n",
      "\n",
      "Epoch 25\n",
      "-------------------------------\n",
      "size:  314\n",
      "Train loss: 4.100855  [   10/  314]\n",
      "Train loss: 40.618126  [  110/  314]\n",
      "Train loss: 32.473789  [  210/  314]\n",
      "Train loss: 6.751288  [  310/  314]\n",
      "size:  78\n",
      "Test Error: \n",
      " Accuracy: 0.0%, Avg loss: 7.309315 \n",
      "\n",
      "Epoch 26\n",
      "-------------------------------\n",
      "size:  314\n",
      "Train loss: 22.340092  [   10/  314]\n",
      "Train loss: 19.565861  [  110/  314]\n",
      "Train loss: 9.456940  [  210/  314]\n",
      "Train loss: 7.799642  [  310/  314]\n",
      "size:  78\n",
      "Test Error: \n",
      " Accuracy: 0.0%, Avg loss: 6.820406 \n",
      "\n",
      "Epoch 27\n",
      "-------------------------------\n",
      "size:  314\n",
      "Train loss: 17.840527  [   10/  314]\n",
      "Train loss: 5.014081  [  110/  314]\n",
      "Train loss: 4.880770  [  210/  314]\n",
      "Train loss: 18.179621  [  310/  314]\n",
      "size:  78\n",
      "Test Error: \n",
      " Accuracy: 0.0%, Avg loss: 6.576387 \n",
      "\n",
      "Epoch 28\n",
      "-------------------------------\n",
      "size:  314\n",
      "Train loss: 6.248918  [   10/  314]\n",
      "Train loss: 7.874307  [  110/  314]\n",
      "Train loss: 6.979601  [  210/  314]\n",
      "Train loss: 11.820864  [  310/  314]\n",
      "size:  78\n",
      "Test Error: \n",
      " Accuracy: 0.0%, Avg loss: 6.636830 \n",
      "\n",
      "Epoch 29\n",
      "-------------------------------\n",
      "size:  314\n",
      "Train loss: 9.348495  [   10/  314]\n",
      "Train loss: 9.282139  [  110/  314]\n",
      "Train loss: 14.944530  [  210/  314]\n",
      "Train loss: 5.961209  [  310/  314]\n",
      "size:  78\n",
      "Test Error: \n",
      " Accuracy: 0.0%, Avg loss: 6.538780 \n",
      "\n",
      "Epoch 30\n",
      "-------------------------------\n",
      "size:  314\n",
      "Train loss: 7.385865  [   10/  314]\n",
      "Train loss: 4.754826  [  110/  314]\n",
      "Train loss: 8.011025  [  210/  314]\n",
      "Train loss: 3.190785  [  310/  314]\n",
      "size:  78\n",
      "Test Error: \n",
      " Accuracy: 0.0%, Avg loss: 6.443929 \n",
      "\n",
      "Epoch 31\n",
      "-------------------------------\n",
      "size:  314\n",
      "Train loss: 7.135848  [   10/  314]\n",
      "Train loss: 9.499866  [  110/  314]\n",
      "Train loss: 6.091355  [  210/  314]\n",
      "Train loss: 11.589930  [  310/  314]\n",
      "size:  78\n",
      "Test Error: \n",
      " Accuracy: 0.0%, Avg loss: 7.115651 \n",
      "\n",
      "Epoch 32\n",
      "-------------------------------\n",
      "size:  314\n",
      "Train loss: 17.883850  [   10/  314]\n",
      "Train loss: 21.052950  [  110/  314]\n",
      "Train loss: 5.533467  [  210/  314]\n",
      "Train loss: 8.223014  [  310/  314]\n",
      "size:  78\n",
      "Test Error: \n",
      " Accuracy: 0.0%, Avg loss: 6.828629 \n",
      "\n",
      "Epoch 33\n",
      "-------------------------------\n",
      "size:  314\n",
      "Train loss: 19.819216  [   10/  314]\n",
      "Train loss: 16.465948  [  110/  314]\n",
      "Train loss: 23.290966  [  210/  314]\n",
      "Train loss: 4.287709  [  310/  314]\n",
      "size:  78\n",
      "Test Error: \n",
      " Accuracy: 0.0%, Avg loss: 6.964767 \n",
      "\n",
      "Epoch 34\n",
      "-------------------------------\n",
      "size:  314\n",
      "Train loss: 20.781181  [   10/  314]\n",
      "Train loss: 5.732040  [  110/  314]\n",
      "Train loss: 8.641773  [  210/  314]\n",
      "Train loss: 3.455492  [  310/  314]\n",
      "size:  78\n",
      "Test Error: \n",
      " Accuracy: 0.0%, Avg loss: 7.589088 \n",
      "\n",
      "Epoch 35\n",
      "-------------------------------\n",
      "size:  314\n",
      "Train loss: 8.401564  [   10/  314]\n",
      "Train loss: 5.165187  [  110/  314]\n",
      "Train loss: 6.266059  [  210/  314]\n",
      "Train loss: 19.789093  [  310/  314]\n",
      "size:  78\n",
      "Test Error: \n",
      " Accuracy: 0.0%, Avg loss: 7.875229 \n",
      "\n",
      "Epoch 36\n",
      "-------------------------------\n",
      "size:  314\n",
      "Train loss: 16.958426  [   10/  314]\n",
      "Train loss: 4.232588  [  110/  314]\n",
      "Train loss: 6.459417  [  210/  314]\n",
      "Train loss: 12.658098  [  310/  314]\n",
      "size:  78\n",
      "Test Error: \n",
      " Accuracy: 0.0%, Avg loss: 7.411300 \n",
      "\n",
      "Epoch 37\n",
      "-------------------------------\n",
      "size:  314\n",
      "Train loss: 12.152543  [   10/  314]\n",
      "Train loss: 5.007448  [  110/  314]\n",
      "Train loss: 36.304050  [  210/  314]\n",
      "Train loss: 4.320786  [  310/  314]\n",
      "size:  78\n",
      "Test Error: \n",
      " Accuracy: 0.0%, Avg loss: 7.771408 \n",
      "\n",
      "Epoch 38\n",
      "-------------------------------\n",
      "size:  314\n",
      "Train loss: 15.400421  [   10/  314]\n",
      "Train loss: 7.208482  [  110/  314]\n",
      "Train loss: 22.472729  [  210/  314]\n",
      "Train loss: 16.875748  [  310/  314]\n",
      "size:  78\n",
      "Test Error: \n",
      " Accuracy: 0.0%, Avg loss: 7.568988 \n",
      "\n",
      "Epoch 39\n",
      "-------------------------------\n",
      "size:  314\n",
      "Train loss: 13.685445  [   10/  314]\n",
      "Train loss: 18.670183  [  110/  314]\n",
      "Train loss: 9.742407  [  210/  314]\n",
      "Train loss: 13.398084  [  310/  314]\n",
      "size:  78\n",
      "Test Error: \n",
      " Accuracy: 0.0%, Avg loss: 6.936750 \n",
      "\n",
      "Epoch 40\n",
      "-------------------------------\n",
      "size:  314\n",
      "Train loss: 3.658532  [   10/  314]\n",
      "Train loss: 38.869572  [  110/  314]\n",
      "Train loss: 6.112988  [  210/  314]\n",
      "Train loss: 10.486557  [  310/  314]\n",
      "size:  78\n",
      "Test Error: \n",
      " Accuracy: 0.0%, Avg loss: 7.760869 \n",
      "\n",
      "Epoch 41\n",
      "-------------------------------\n",
      "size:  314\n",
      "Train loss: 9.226164  [   10/  314]\n",
      "Train loss: 5.136101  [  110/  314]\n",
      "Train loss: 3.923366  [  210/  314]\n",
      "Train loss: 6.484107  [  310/  314]\n",
      "size:  78\n",
      "Test Error: \n",
      " Accuracy: 0.0%, Avg loss: 6.478473 \n",
      "\n",
      "Epoch 42\n",
      "-------------------------------\n",
      "size:  314\n",
      "Train loss: 54.288067  [   10/  314]\n",
      "Train loss: 12.872055  [  110/  314]\n",
      "Train loss: 11.887238  [  210/  314]\n",
      "Train loss: 11.349683  [  310/  314]\n",
      "size:  78\n",
      "Test Error: \n",
      " Accuracy: 0.0%, Avg loss: 7.333331 \n",
      "\n",
      "Epoch 43\n",
      "-------------------------------\n",
      "size:  314\n",
      "Train loss: 10.409263  [   10/  314]\n",
      "Train loss: 11.761992  [  110/  314]\n",
      "Train loss: 4.010180  [  210/  314]\n",
      "Train loss: 13.607370  [  310/  314]\n",
      "size:  78\n",
      "Test Error: \n",
      " Accuracy: 0.0%, Avg loss: 8.090241 \n",
      "\n",
      "Epoch 44\n",
      "-------------------------------\n",
      "size:  314\n",
      "Train loss: 14.772165  [   10/  314]\n",
      "Train loss: 11.519963  [  110/  314]\n",
      "Train loss: 4.663634  [  210/  314]\n",
      "Train loss: 7.625065  [  310/  314]\n",
      "size:  78\n",
      "Test Error: \n",
      " Accuracy: 0.0%, Avg loss: 6.807429 \n",
      "\n",
      "Epoch 45\n",
      "-------------------------------\n",
      "size:  314\n",
      "Train loss: 5.976693  [   10/  314]\n",
      "Train loss: 31.464817  [  110/  314]\n",
      "Train loss: 16.912737  [  210/  314]\n",
      "Train loss: 13.079005  [  310/  314]\n",
      "size:  78\n",
      "Test Error: \n",
      " Accuracy: 0.0%, Avg loss: 7.203830 \n",
      "\n",
      "Epoch 46\n",
      "-------------------------------\n",
      "size:  314\n",
      "Train loss: 31.631802  [   10/  314]\n",
      "Train loss: 7.447664  [  110/  314]\n",
      "Train loss: 11.133032  [  210/  314]\n",
      "Train loss: 7.484152  [  310/  314]\n",
      "size:  78\n",
      "Test Error: \n",
      " Accuracy: 0.0%, Avg loss: 6.829251 \n",
      "\n",
      "Epoch 47\n",
      "-------------------------------\n",
      "size:  314\n",
      "Train loss: 15.575064  [   10/  314]\n",
      "Train loss: 25.422867  [  110/  314]\n",
      "Train loss: 1.730160  [  210/  314]\n",
      "Train loss: 7.507641  [  310/  314]\n",
      "size:  78\n",
      "Test Error: \n",
      " Accuracy: 0.0%, Avg loss: 7.338697 \n",
      "\n",
      "Epoch 48\n",
      "-------------------------------\n",
      "size:  314\n",
      "Train loss: 5.589511  [   10/  314]\n",
      "Train loss: 4.472276  [  110/  314]\n",
      "Train loss: 9.317852  [  210/  314]\n",
      "Train loss: 25.621185  [  310/  314]\n",
      "size:  78\n",
      "Test Error: \n",
      " Accuracy: 0.0%, Avg loss: 6.468981 \n",
      "\n",
      "Epoch 49\n",
      "-------------------------------\n",
      "size:  314\n",
      "Train loss: 4.662849  [   10/  314]\n",
      "Train loss: 7.585670  [  110/  314]\n",
      "Train loss: 20.002289  [  210/  314]\n",
      "Train loss: 4.065233  [  310/  314]\n",
      "size:  78\n",
      "Test Error: \n",
      " Accuracy: 0.0%, Avg loss: 7.021155 \n",
      "\n",
      "Epoch 50\n",
      "-------------------------------\n",
      "size:  314\n",
      "Train loss: 27.614420  [   10/  314]\n",
      "Train loss: 18.066444  [  110/  314]\n",
      "Train loss: 22.597820  [  210/  314]\n",
      "Train loss: 22.875141  [  310/  314]\n",
      "size:  78\n",
      "Test Error: \n",
      " Accuracy: 0.0%, Avg loss: 9.077121 \n",
      "\n",
      "Epoch 51\n",
      "-------------------------------\n",
      "size:  314\n",
      "Train loss: 4.753987  [   10/  314]\n",
      "Train loss: 21.702179  [  110/  314]\n",
      "Train loss: 3.653354  [  210/  314]\n",
      "Train loss: 19.193609  [  310/  314]\n",
      "size:  78\n",
      "Test Error: \n",
      " Accuracy: 0.0%, Avg loss: 7.748733 \n",
      "\n",
      "Epoch 52\n",
      "-------------------------------\n",
      "size:  314\n",
      "Train loss: 4.807202  [   10/  314]\n",
      "Train loss: 24.800041  [  110/  314]\n",
      "Train loss: 18.209429  [  210/  314]\n",
      "Train loss: 34.068825  [  310/  314]\n",
      "size:  78\n",
      "Test Error: \n",
      " Accuracy: 0.0%, Avg loss: 7.224213 \n",
      "\n",
      "Epoch 53\n",
      "-------------------------------\n",
      "size:  314\n",
      "Train loss: 7.686887  [   10/  314]\n",
      "Train loss: 5.387136  [  110/  314]\n",
      "Train loss: 25.648016  [  210/  314]\n",
      "Train loss: 41.458855  [  310/  314]\n",
      "size:  78\n",
      "Test Error: \n",
      " Accuracy: 0.0%, Avg loss: 6.804766 \n",
      "\n",
      "Epoch 54\n",
      "-------------------------------\n",
      "size:  314\n",
      "Train loss: 5.338485  [   10/  314]\n",
      "Train loss: 2.506058  [  110/  314]\n",
      "Train loss: 2.165029  [  210/  314]\n",
      "Train loss: 19.761272  [  310/  314]\n",
      "size:  78\n",
      "Test Error: \n",
      " Accuracy: 0.0%, Avg loss: 7.099315 \n",
      "\n",
      "Epoch 55\n",
      "-------------------------------\n",
      "size:  314\n",
      "Train loss: 9.038092  [   10/  314]\n",
      "Train loss: 15.508423  [  110/  314]\n",
      "Train loss: 6.793615  [  210/  314]\n",
      "Train loss: 10.231345  [  310/  314]\n",
      "size:  78\n",
      "Test Error: \n",
      " Accuracy: 0.0%, Avg loss: 6.323962 \n",
      "\n",
      "Epoch 56\n",
      "-------------------------------\n",
      "size:  314\n",
      "Train loss: 8.698381  [   10/  314]\n",
      "Train loss: 11.635550  [  110/  314]\n",
      "Train loss: 20.546326  [  210/  314]\n",
      "Train loss: 24.887318  [  310/  314]\n",
      "size:  78\n",
      "Test Error: \n",
      " Accuracy: 0.0%, Avg loss: 6.309637 \n",
      "\n",
      "Epoch 57\n",
      "-------------------------------\n",
      "size:  314\n",
      "Train loss: 5.356206  [   10/  314]\n",
      "Train loss: 10.324518  [  110/  314]\n",
      "Train loss: 21.261160  [  210/  314]\n",
      "Train loss: 16.216942  [  310/  314]\n",
      "size:  78\n",
      "Test Error: \n",
      " Accuracy: 0.0%, Avg loss: 6.524022 \n",
      "\n",
      "Epoch 58\n",
      "-------------------------------\n",
      "size:  314\n",
      "Train loss: 7.327081  [   10/  314]\n",
      "Train loss: 11.819196  [  110/  314]\n",
      "Train loss: 7.386904  [  210/  314]\n",
      "Train loss: 14.687617  [  310/  314]\n",
      "size:  78\n",
      "Test Error: \n",
      " Accuracy: 0.0%, Avg loss: 6.554018 \n",
      "\n",
      "Epoch 59\n",
      "-------------------------------\n",
      "size:  314\n",
      "Train loss: 7.046408  [   10/  314]\n",
      "Train loss: 6.121489  [  110/  314]\n",
      "Train loss: 8.907566  [  210/  314]\n",
      "Train loss: 21.043728  [  310/  314]\n",
      "size:  78\n",
      "Test Error: \n",
      " Accuracy: 0.0%, Avg loss: 6.717097 \n",
      "\n",
      "Epoch 60\n",
      "-------------------------------\n",
      "size:  314\n",
      "Train loss: 30.000305  [   10/  314]\n",
      "Train loss: 9.954266  [  110/  314]\n",
      "Train loss: 9.333194  [  210/  314]\n",
      "Train loss: 3.979528  [  310/  314]\n",
      "size:  78\n",
      "Test Error: \n",
      " Accuracy: 0.0%, Avg loss: 7.101203 \n",
      "\n",
      "Done!\n"
     ]
    }
   ],
   "source": [
    "device = 'cpu'\n",
    "epochs = 60\n",
    "for t in range(epochs):\n",
    "    print(f\"Epoch {t+1}\\n-------------------------------\")\n",
    "    train(train_dataloader, nnet, criterion, optimizer, device)\n",
    "    test(test_dataloader, nnet, criterion, device)\n",
    "print(\"Done!\")"
   ],
   "metadata": {
    "collapsed": false,
    "ExecuteTime": {
     "end_time": "2024-02-23T01:25:53.621727Z",
     "start_time": "2024-02-23T01:25:50.716539Z"
    }
   }
  },
  {
   "cell_type": "code",
   "execution_count": 18,
   "outputs": [
    {
     "data": {
      "text/plain": "Cylinders            4\nDisplacement     140.0\nHorsepower        88.0\nWeight          2890.0\nAcceleration      17.3\nModel Year          79\nEurope           False\nJapan            False\nUSA               True\nName: 282, dtype: object"
     },
     "execution_count": 18,
     "metadata": {},
     "output_type": "execute_result"
    }
   ],
   "source": [
    "train_labels.iloc[1]\n",
    "train_features.iloc[1]"
   ],
   "metadata": {
    "collapsed": false,
    "ExecuteTime": {
     "end_time": "2024-02-22T18:17:59.871918Z",
     "start_time": "2024-02-22T18:17:59.865954Z"
    }
   }
  },
  {
   "cell_type": "code",
   "execution_count": 24,
   "outputs": [
    {
     "data": {
      "text/plain": "(9,)"
     },
     "execution_count": 24,
     "metadata": {},
     "output_type": "execute_result"
    }
   ],
   "source": [
    "temp = train_labels.to_numpy()\n",
    "temp[1]\n",
    "temp2 = train_features.to_numpy()\n",
    "temp2[1].shape\n",
    "temp2.shape\n",
    "temp2[1].shape"
   ],
   "metadata": {
    "collapsed": false,
    "ExecuteTime": {
     "end_time": "2024-02-22T18:21:45.054111Z",
     "start_time": "2024-02-22T18:21:45.049354Z"
    }
   }
  },
  {
   "cell_type": "markdown",
   "source": [
    "Setup the data loaders\n"
   ],
   "metadata": {
    "collapsed": false
   }
  },
  {
   "cell_type": "code",
   "execution_count": null,
   "outputs": [],
   "source": [
    "class MPGDataSet(Dataset):\n",
    "    def __init__(self, features, labels, feature_transform=None,\n",
    "                 label_transform=None):\n",
    "        self.features = features\n",
    "        self.labels = labels\n",
    "        self.feature_transform = feature_transform\n",
    "        self.label_transform = label_transform\n",
    "\n",
    "    def __len__(self):\n",
    "        return len(self.features)\n",
    "\n",
    "    def __getitem__(self, idx):\n"
   ],
   "metadata": {
    "collapsed": false
   }
  }
 ],
 "metadata": {
  "kernelspec": {
   "display_name": "Python 3",
   "language": "python",
   "name": "python3"
  },
  "language_info": {
   "codemirror_mode": {
    "name": "ipython",
    "version": 2
   },
   "file_extension": ".py",
   "mimetype": "text/x-python",
   "name": "python",
   "nbconvert_exporter": "python",
   "pygments_lexer": "ipython2",
   "version": "2.7.6"
  }
 },
 "nbformat": 4,
 "nbformat_minor": 0
}
